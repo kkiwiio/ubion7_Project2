{
 "cells": [
  {
   "cell_type": "code",
   "execution_count": 52,
   "metadata": {},
   "outputs": [],
   "source": [
    "import pandas as pd"
   ]
  },
  {
   "cell_type": "code",
   "execution_count": 53,
   "metadata": {},
   "outputs": [
    {
     "data": {
      "text/html": [
       "<div>\n",
       "<style scoped>\n",
       "    .dataframe tbody tr th:only-of-type {\n",
       "        vertical-align: middle;\n",
       "    }\n",
       "\n",
       "    .dataframe tbody tr th {\n",
       "        vertical-align: top;\n",
       "    }\n",
       "\n",
       "    .dataframe thead th {\n",
       "        text-align: right;\n",
       "    }\n",
       "</style>\n",
       "<table border=\"1\" class=\"dataframe\">\n",
       "  <thead>\n",
       "    <tr style=\"text-align: right;\">\n",
       "      <th></th>\n",
       "      <th>회사명</th>\n",
       "      <th>시장종류</th>\n",
       "      <th>거래소코드</th>\n",
       "      <th>회계연도</th>\n",
       "      <th>상장일</th>\n",
       "      <th>label</th>\n",
       "      <th>평균근속연수</th>\n",
       "      <th>설립일</th>\n",
       "      <th>주거래은행</th>\n",
       "      <th>R&amp;D 비용</th>\n",
       "      <th>업력</th>\n",
       "      <th>임원진 주식 보유</th>\n",
       "      <th>최대주주변경 횟수</th>\n",
       "      <th>감사법인 변경 횟수</th>\n",
       "      <th>수출기업여부</th>\n",
       "      <th>직원수 증감</th>\n",
       "      <th>기간제비율</th>\n",
       "      <th>통계청 한국표준산업분류 10차(중분류)</th>\n",
       "      <th>표준편차</th>\n",
       "    </tr>\n",
       "  </thead>\n",
       "  <tbody>\n",
       "    <tr>\n",
       "      <th>0</th>\n",
       "      <td>(주)CMG제약</td>\n",
       "      <td>kosdaq</td>\n",
       "      <td>58820</td>\n",
       "      <td>2011/12</td>\n",
       "      <td>2001-08-31</td>\n",
       "      <td>0</td>\n",
       "      <td>3년8개월</td>\n",
       "      <td>2001/08/01</td>\n",
       "      <td>KEB하나은행</td>\n",
       "      <td>3.08</td>\n",
       "      <td>10</td>\n",
       "      <td>0.0</td>\n",
       "      <td>0</td>\n",
       "      <td>0</td>\n",
       "      <td>0</td>\n",
       "      <td>4.65</td>\n",
       "      <td>0.00</td>\n",
       "      <td>의료용 물질 및 의약품 제조업</td>\n",
       "      <td>0.231002</td>\n",
       "    </tr>\n",
       "    <tr>\n",
       "      <th>1</th>\n",
       "      <td>(주)CMG제약</td>\n",
       "      <td>kosdaq</td>\n",
       "      <td>58820</td>\n",
       "      <td>2012/12</td>\n",
       "      <td>2001-08-31</td>\n",
       "      <td>0</td>\n",
       "      <td>2.9</td>\n",
       "      <td>2001/08/01</td>\n",
       "      <td>KEB하나은행</td>\n",
       "      <td>2.58</td>\n",
       "      <td>11</td>\n",
       "      <td>0.0</td>\n",
       "      <td>1</td>\n",
       "      <td>0</td>\n",
       "      <td>0</td>\n",
       "      <td>-0.74</td>\n",
       "      <td>5.22</td>\n",
       "      <td>의료용 물질 및 의약품 제조업</td>\n",
       "      <td>0.743018</td>\n",
       "    </tr>\n",
       "    <tr>\n",
       "      <th>2</th>\n",
       "      <td>(주)CMG제약</td>\n",
       "      <td>kosdaq</td>\n",
       "      <td>58820</td>\n",
       "      <td>2013/12</td>\n",
       "      <td>2001-08-31</td>\n",
       "      <td>0</td>\n",
       "      <td>3.94</td>\n",
       "      <td>2001/08/01</td>\n",
       "      <td>KEB하나은행</td>\n",
       "      <td>31.98</td>\n",
       "      <td>12</td>\n",
       "      <td>0.0</td>\n",
       "      <td>1</td>\n",
       "      <td>0</td>\n",
       "      <td>1</td>\n",
       "      <td>1.49</td>\n",
       "      <td>0.00</td>\n",
       "      <td>의료용 물질 및 의약품 제조업</td>\n",
       "      <td>1.607292</td>\n",
       "    </tr>\n",
       "    <tr>\n",
       "      <th>3</th>\n",
       "      <td>(주)CMG제약</td>\n",
       "      <td>kosdaq</td>\n",
       "      <td>58820</td>\n",
       "      <td>2014/12</td>\n",
       "      <td>2001-08-31</td>\n",
       "      <td>0</td>\n",
       "      <td>2.69</td>\n",
       "      <td>2001/08/01</td>\n",
       "      <td>KEB하나은행</td>\n",
       "      <td>18.64</td>\n",
       "      <td>13</td>\n",
       "      <td>0.0</td>\n",
       "      <td>1</td>\n",
       "      <td>0</td>\n",
       "      <td>1</td>\n",
       "      <td>20.59</td>\n",
       "      <td>0.00</td>\n",
       "      <td>의료용 물질 및 의약품 제조업</td>\n",
       "      <td>0.660937</td>\n",
       "    </tr>\n",
       "    <tr>\n",
       "      <th>4</th>\n",
       "      <td>(주)CMG제약</td>\n",
       "      <td>kosdaq</td>\n",
       "      <td>58820</td>\n",
       "      <td>2015/12</td>\n",
       "      <td>2001-08-31</td>\n",
       "      <td>0</td>\n",
       "      <td>3.31</td>\n",
       "      <td>2001/08/01</td>\n",
       "      <td>KEB하나은행</td>\n",
       "      <td>22.22</td>\n",
       "      <td>14</td>\n",
       "      <td>0.0</td>\n",
       "      <td>1</td>\n",
       "      <td>1</td>\n",
       "      <td>1</td>\n",
       "      <td>-4.88</td>\n",
       "      <td>5.77</td>\n",
       "      <td>의료용 물질 및 의약품 제조업</td>\n",
       "      <td>0.367634</td>\n",
       "    </tr>\n",
       "  </tbody>\n",
       "</table>\n",
       "</div>"
      ],
      "text/plain": [
       "        회사명    시장종류  거래소코드     회계연도        상장일 label 평균근속연수         설립일  \\\n",
       "0  (주)CMG제약  kosdaq  58820  2011/12 2001-08-31     0  3년8개월  2001/08/01   \n",
       "1  (주)CMG제약  kosdaq  58820  2012/12 2001-08-31     0    2.9  2001/08/01   \n",
       "2  (주)CMG제약  kosdaq  58820  2013/12 2001-08-31     0   3.94  2001/08/01   \n",
       "3  (주)CMG제약  kosdaq  58820  2014/12 2001-08-31     0   2.69  2001/08/01   \n",
       "4  (주)CMG제약  kosdaq  58820  2015/12 2001-08-31     0   3.31  2001/08/01   \n",
       "\n",
       "     주거래은행  R&D 비용  업력  임원진 주식 보유  최대주주변경 횟수  감사법인 변경 횟수  수출기업여부  직원수 증감  \\\n",
       "0  KEB하나은행    3.08  10        0.0          0           0       0    4.65   \n",
       "1  KEB하나은행    2.58  11        0.0          1           0       0   -0.74   \n",
       "2  KEB하나은행   31.98  12        0.0          1           0       1    1.49   \n",
       "3  KEB하나은행   18.64  13        0.0          1           0       1   20.59   \n",
       "4  KEB하나은행   22.22  14        0.0          1           1       1   -4.88   \n",
       "\n",
       "   기간제비율 통계청 한국표준산업분류 10차(중분류)      표준편차  \n",
       "0   0.00      의료용 물질 및 의약품 제조업  0.231002  \n",
       "1   5.22      의료용 물질 및 의약품 제조업  0.743018  \n",
       "2   0.00      의료용 물질 및 의약품 제조업  1.607292  \n",
       "3   0.00      의료용 물질 및 의약품 제조업  0.660937  \n",
       "4   5.77      의료용 물질 및 의약품 제조업  0.367634  "
      ]
     },
     "execution_count": 53,
     "metadata": {},
     "output_type": "execute_result"
    }
   ],
   "source": [
    "main_df = pd.read_excel('./new_main_df.xlsx',index_col=0)\n",
    "main_df.head()"
   ]
  },
  {
   "cell_type": "code",
   "execution_count": 54,
   "metadata": {},
   "outputs": [
    {
     "name": "stdout",
     "output_type": "stream",
     "text": [
      "<class 'pandas.core.frame.DataFrame'>\n",
      "Index: 17487 entries, 0 to 17486\n",
      "Data columns (total 19 columns):\n",
      " #   Column                 Non-Null Count  Dtype         \n",
      "---  ------                 --------------  -----         \n",
      " 0   회사명                    17487 non-null  object        \n",
      " 1   시장종류                   17487 non-null  object        \n",
      " 2   거래소코드                  17487 non-null  int64         \n",
      " 3   회계연도                   17487 non-null  object        \n",
      " 4   상장일                    17487 non-null  datetime64[ns]\n",
      " 5   label                  15896 non-null  object        \n",
      " 6   평균근속연수                 14449 non-null  object        \n",
      " 7   설립일                    17487 non-null  object        \n",
      " 8   주거래은행                  17474 non-null  object        \n",
      " 9   R&D 비용                 11715 non-null  float64       \n",
      " 10  업력                     17487 non-null  int64         \n",
      " 11  임원진 주식 보유              15439 non-null  float64       \n",
      " 12  최대주주변경 횟수              17487 non-null  int64         \n",
      " 13  감사법인 변경 횟수             17487 non-null  int64         \n",
      " 14  수출기업여부                 17487 non-null  int64         \n",
      " 15  직원수 증감                 13724 non-null  float64       \n",
      " 16  기간제비율                  14624 non-null  float64       \n",
      " 17  통계청 한국표준산업분류 10차(중분류)  17487 non-null  object        \n",
      " 18  표준편차                   17487 non-null  float64       \n",
      "dtypes: datetime64[ns](1), float64(5), int64(5), object(8)\n",
      "memory usage: 2.7+ MB\n"
     ]
    }
   ],
   "source": [
    "main_df.info()"
   ]
  },
  {
   "cell_type": "code",
   "execution_count": 55,
   "metadata": {},
   "outputs": [],
   "source": [
    "std_column = '표준편차'  # 여기에 실제 표준편차 컬럼의 이름을 사용해주세요\n",
    "\n",
    "# 경기민감도에 따른 산업위험 인코딩 함수를 정의합니다\n",
    "def encode_risk(std_value):\n",
    "    if std_value < 0.25:\n",
    "        return 'AA'\n",
    "    elif 0.25 <= std_value < 0.75:\n",
    "        return 'A'\n",
    "    elif 0.75 <= std_value < 1.25:\n",
    "        return 'BBB'\n",
    "    elif 1.25 <= std_value < 2.5:\n",
    "        return 'BB'\n",
    "    else:\n",
    "        return 'B'\n"
   ]
  },
  {
   "cell_type": "code",
   "execution_count": null,
   "metadata": {},
   "outputs": [],
   "source": []
  },
  {
   "cell_type": "code",
   "execution_count": 56,
   "metadata": {},
   "outputs": [],
   "source": [
    "main_df['산업위험(경기민감도에 따른)'] = main_df[std_column].apply(encode_risk)"
   ]
  },
  {
   "cell_type": "code",
   "execution_count": 57,
   "metadata": {},
   "outputs": [
    {
     "name": "stderr",
     "output_type": "stream",
     "text": [
      "C:\\Users\\kyaa0\\AppData\\Local\\Temp\\ipykernel_11760\\2354843674.py:1: UserWarning: Could not infer format, so each element will be parsed individually, falling back to `dateutil`. To ensure parsing is consistent and as-expected, please specify a format.\n",
      "  main_df['연도'] = pd.to_datetime(main_df['회계연도']).dt.year\n"
     ]
    }
   ],
   "source": [
    "main_df['연도'] = pd.to_datetime(main_df['회계연도']).dt.year"
   ]
  },
  {
   "cell_type": "code",
   "execution_count": 58,
   "metadata": {},
   "outputs": [
    {
     "name": "stdout",
     "output_type": "stream",
     "text": [
      "<class 'pandas.core.frame.DataFrame'>\n",
      "Index: 17487 entries, 0 to 17486\n",
      "Data columns (total 21 columns):\n",
      " #   Column                 Non-Null Count  Dtype         \n",
      "---  ------                 --------------  -----         \n",
      " 0   회사명                    17487 non-null  object        \n",
      " 1   시장종류                   17487 non-null  object        \n",
      " 2   거래소코드                  17487 non-null  int64         \n",
      " 3   회계연도                   17487 non-null  object        \n",
      " 4   상장일                    17487 non-null  datetime64[ns]\n",
      " 5   label                  15896 non-null  object        \n",
      " 6   평균근속연수                 14449 non-null  object        \n",
      " 7   설립일                    17487 non-null  object        \n",
      " 8   주거래은행                  17474 non-null  object        \n",
      " 9   R&D 비용                 11715 non-null  float64       \n",
      " 10  업력                     17487 non-null  int64         \n",
      " 11  임원진 주식 보유              15439 non-null  float64       \n",
      " 12  최대주주변경 횟수              17487 non-null  int64         \n",
      " 13  감사법인 변경 횟수             17487 non-null  int64         \n",
      " 14  수출기업여부                 17487 non-null  int64         \n",
      " 15  직원수 증감                 13724 non-null  float64       \n",
      " 16  기간제비율                  14624 non-null  float64       \n",
      " 17  통계청 한국표준산업분류 10차(중분류)  17487 non-null  object        \n",
      " 18  표준편차                   17487 non-null  float64       \n",
      " 19  산업위험(경기민감도에 따른)        17487 non-null  object        \n",
      " 20  연도                     17487 non-null  int32         \n",
      "dtypes: datetime64[ns](1), float64(5), int32(1), int64(5), object(9)\n",
      "memory usage: 2.9+ MB\n"
     ]
    }
   ],
   "source": [
    "main_df.info()"
   ]
  },
  {
   "cell_type": "code",
   "execution_count": 69,
   "metadata": {},
   "outputs": [],
   "source": [
    "market_cap_df = pd.read_excel('./시가총액산업위험.xlsx')\n"
   ]
  },
  {
   "cell_type": "code",
   "execution_count": 72,
   "metadata": {},
   "outputs": [],
   "source": [
    "market_cap_df = market_cap_df[['회사명','거래소코드','연도','시총기준산업위험']]"
   ]
  },
  {
   "cell_type": "code",
   "execution_count": 73,
   "metadata": {},
   "outputs": [],
   "source": [
    "main_df = pd.merge(left=main_df,right=market_cap_df,how='left',on=['회사명','거래소코드','연도'])"
   ]
  },
  {
   "cell_type": "code",
   "execution_count": 75,
   "metadata": {},
   "outputs": [],
   "source": [
    "main_df.to_excel('./진짜 최종 데이터.xlsx')"
   ]
  },
  {
   "cell_type": "code",
   "execution_count": 80,
   "metadata": {},
   "outputs": [
    {
     "data": {
      "text/plain": [
       "array(['의료용 물질 및 의약품 제조업', '도·소매 중개업', '출판업',\n",
       "       '전자부품, 컴퓨터, 영상, 음향 및 통신장비 제조업', '금속가공제품 제조업; 기계 및 가구 제외',\n",
       "       '비금속 제조업', '전문 서비스업', '기타 제조업', '의복, 의복 액세서리 및 모피제품 제조업',\n",
       "       '자동차 및 트레일러 제조업', '섬유 제조업', '건설업', '식료품 제조업', '철강', '전기장비 제조업',\n",
       "       '플라스틱 제조업', '가구 제조업', '정밀화학 제조업', '의료, 정밀, 광학기기 및 시계 제조업', '사업지원',\n",
       "       '제지 제조업', '영상ㆍ오디오 기록물 제작 및 배급업', '인쇄 및 기록매체 복제업', '기타 수송장비 제조업',\n",
       "       '정보서비스업', '숙박,음식점', '교육서비스', '컴퓨터 프로그래밍, 시스템 통합 및 관리업', '우편 및 통신업',\n",
       "       '부동산', '고무 제조업', '육상운송 및 파이프라인 운송업', '창고 및 운송관련 서비스업', '예술,스포츠,여가',\n",
       "       '방송업', '비철금속', '가죽,신발 제조업', '폐기물 수집, 운반, 처리 및 원료 재생업', '목재 제조업',\n",
       "       '전기, 가스, 증기 및 공기조절 공급업', '금융및보험', '농업', '석유 정제 제조업'], dtype=object)"
      ]
     },
     "execution_count": 80,
     "metadata": {},
     "output_type": "execute_result"
    }
   ],
   "source": [
    "main_df['통계청 한국표준산업분류 10차(중분류)'].unique()"
   ]
  },
  {
   "cell_type": "code",
   "execution_count": null,
   "metadata": {},
   "outputs": [],
   "source": []
  }
 ],
 "metadata": {
  "kernelspec": {
   "display_name": "Python 3",
   "language": "python",
   "name": "python3"
  },
  "language_info": {
   "codemirror_mode": {
    "name": "ipython",
    "version": 3
   },
   "file_extension": ".py",
   "mimetype": "text/x-python",
   "name": "python",
   "nbconvert_exporter": "python",
   "pygments_lexer": "ipython3",
   "version": "3.9.11"
  },
  "orig_nbformat": 4
 },
 "nbformat": 4,
 "nbformat_minor": 2
}
