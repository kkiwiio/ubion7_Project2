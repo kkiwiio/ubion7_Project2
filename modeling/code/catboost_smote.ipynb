{
 "cells": [
  {
   "cell_type": "code",
   "execution_count": 95,
   "metadata": {},
   "outputs": [],
   "source": [
    "import pandas as pd\n",
    "from sklearn.preprocessing import StandardScaler\n",
    "\n",
    "import seaborn as sns\n",
    "import matplotlib.pyplot as plt\n",
    "import scipy.stats as stats"
   ]
  },
  {
   "cell_type": "code",
   "execution_count": 96,
   "metadata": {},
   "outputs": [],
   "source": [
    "df_train=pd.read_excel('./train.xlsx',index_col=0)\n",
    "df_test = pd.read_excel('./test.xlsx',index_col=0)"
   ]
  },
  {
   "cell_type": "code",
   "execution_count": 97,
   "metadata": {},
   "outputs": [],
   "source": [
    "df_train = df_train.reset_index()\n",
    "df_test = df_test.reset_index()"
   ]
  },
  {
   "cell_type": "code",
   "execution_count": 98,
   "metadata": {},
   "outputs": [],
   "source": [
    "df_train = df_train.drop(['index','회사명', '거래소코드', '회계년도','K2_부실판단', '산업위험_경기민감도','주거래은행'],axis=1)\n",
    "df_test = df_test.drop(['index','회사명', '거래소코드', '회계년도','K2_부실판단', '산업위험_경기민감도','주거래은행'],axis=1)"
   ]
  },
  {
   "cell_type": "code",
   "execution_count": 99,
   "metadata": {},
   "outputs": [
    {
     "name": "stdout",
     "output_type": "stream",
     "text": [
      "<class 'pandas.core.frame.DataFrame'>\n",
      "RangeIndex: 7371 entries, 0 to 7370\n",
      "Data columns (total 91 columns):\n",
      " #   Column                      Non-Null Count  Dtype  \n",
      "---  ------                      --------------  -----  \n",
      " 0   유동비율(%)                     7371 non-null   float64\n",
      " 1   당좌비율(%)                     7371 non-null   float64\n",
      " 2   비유동비율(%)                    7371 non-null   float64\n",
      " 3   부채비율(%)                     7371 non-null   float64\n",
      " 4   유동부채비율(%)                   7371 non-null   float64\n",
      " 5   차입금의존도(%)                   7371 non-null   float64\n",
      " 6   이익잉여금비율(%)                  7371 non-null   float64\n",
      " 7   순운전자본비율(%)                  7371 non-null   float64\n",
      " 8   비유동장기적합률(%)                 7371 non-null   float64\n",
      " 9   이자보상배율(이자비용)(배)             7371 non-null   float64\n",
      " 10  외화포지션(배)                    7371 non-null   float64\n",
      " 11  총자본순이익률(%)                  7371 non-null   float64\n",
      " 12  자기자본순이익률(%)                 7371 non-null   float64\n",
      " 13  경영자본순이익률(%)                 7371 non-null   float64\n",
      " 14  매출액순이익률(%)                  7371 non-null   float64\n",
      " 15  총자본정상영업이익률(%)               7371 non-null   float64\n",
      " 16  자기자본정상영업이익률(%)              7371 non-null   float64\n",
      " 17  매출액정상영업이익률(%)               7371 non-null   float64\n",
      " 18  금융비용부담률(%)                  7371 non-null   float64\n",
      " 19  총자산회전율(배)                   7371 non-null   float64\n",
      " 20  매출채권회전률(배)                  7371 non-null   float64\n",
      " 21  당좌자산회전률(배)                  7371 non-null   float64\n",
      " 22  재고자산회전률(배)                  7371 non-null   float64\n",
      " 23  유형자산회전율(배)                  7371 non-null   float64\n",
      " 24  매입채무회전률(배)                  7371 non-null   float64\n",
      " 25  자기자본회전률(배)                  7371 non-null   float64\n",
      " 26  경영자본회전률(배)                  7371 non-null   float64\n",
      " 27  유동자산증가율(%)                  7371 non-null   float64\n",
      " 28  매출액증가율(%)                   7371 non-null   float64\n",
      " 29  정상영업이익증가율(%)                7371 non-null   float64\n",
      " 30  순이익증가율(%)                   7371 non-null   float64\n",
      " 31  spread(%)                   7371 non-null   float64\n",
      " 32  PPI(2015기준)                 7371 non-null   float64\n",
      " 33  실질GDP성장률(%)                 7371 non-null   float64\n",
      " 34  EV/EBITDA(배)                7371 non-null   float64\n",
      " 35  52주베타(배)                    7371 non-null   float64\n",
      " 36  PER                         7371 non-null   float64\n",
      " 37  PBR                         7371 non-null   float64\n",
      " 38  PCR                         7371 non-null   float64\n",
      " 39  CASH FLOW 대 부채비율(%)         7371 non-null   float64\n",
      " 40  총자본투자효율(%)                  7371 non-null   float64\n",
      " 41  log_평균총자산                   7371 non-null   float64\n",
      " 42  K2_score                    7371 non-null   float64\n",
      " 43  최대주주특수관계인_지분율(%)            7371 non-null   float64\n",
      " 44  최대주주변경횟수(회)                 7371 non-null   int64  \n",
      " 45  감사법인변경횟수(회)                 7371 non-null   int64  \n",
      " 46  업력(년)                       7371 non-null   int64  \n",
      " 47  평균근속연수(년)                   7371 non-null   float64\n",
      " 48  직원수증감율(%)                   7371 non-null   float64\n",
      " 49  기간제비율(%)                    7371 non-null   float64\n",
      " 50  R&D집중도(%)                   7371 non-null   float64\n",
      " 51  수출기업여부(dummy)               7371 non-null   int64  \n",
      " 52  Target                      7371 non-null   int64  \n",
      " 53  주거래은행_0                     7371 non-null   int64  \n",
      " 54  주거래은행_1                     7371 non-null   int64  \n",
      " 55  주거래은행_2                     7371 non-null   int64  \n",
      " 56  주거래은행_3                     7371 non-null   int64  \n",
      " 57  주거래은행_4                     7371 non-null   int64  \n",
      " 58  산업위험_경기민감도_카테고리화_1안_AA      7371 non-null   int64  \n",
      " 59  산업위험_경기민감도_카테고리화_1안_A_BB    7371 non-null   int64  \n",
      " 60  산업위험_경기민감도_카테고리화_1안_BBB     7371 non-null   int64  \n",
      " 61  산업위험_경기민감도_카테고리화_2안_AA      7371 non-null   int64  \n",
      " 62  산업위험_경기민감도_카테고리화_2안_A_B     7371 non-null   int64  \n",
      " 63  산업위험_경기민감도_카테고리화_2안_BB_BBB  7371 non-null   int64  \n",
      " 64  최대주주변경횟수(회)_카테고리화_1안_0회     7371 non-null   int64  \n",
      " 65  최대주주변경횟수(회)_카테고리화_1안_1~3회   7371 non-null   int64  \n",
      " 66  최대주주변경횟수(회)_카테고리화_1안_4회이상   7371 non-null   int64  \n",
      " 67  최대주주변경횟수(회)_카테고리화_2안_0~1회   7371 non-null   int64  \n",
      " 68  최대주주변경횟수(회)_카테고리화_2안_2~4회   7371 non-null   int64  \n",
      " 69  최대주주변경횟수(회)_카테고리화_2안_5회이상   7371 non-null   int64  \n",
      " 70  감사법인변경횟수(회)_카테고리화_1안_0회     7371 non-null   int64  \n",
      " 71  감사법인변경횟수(회)_카테고리화_1안_1~2회   7371 non-null   int64  \n",
      " 72  감사법인변경횟수(회)_카테고리화_1안_3회이상   7371 non-null   int64  \n",
      " 73  감사법인변경횟수(회)_카테고리화_2안_0회     7371 non-null   int64  \n",
      " 74  감사법인변경횟수(회)_카테고리화_2안_1회이상   7371 non-null   int64  \n",
      " 75  장단기금리차_추세_1안_감소             7371 non-null   int64  \n",
      " 76  장단기금리차_추세_1안_증가             7371 non-null   int64  \n",
      " 77  장단기금리차_추세_2안_-              7371 non-null   int64  \n",
      " 78  장단기금리차_추세_2안_역전             7371 non-null   int64  \n",
      " 79  생산자물가지수_추세_감소               7371 non-null   int64  \n",
      " 80  생산자물가지수_추세_증가               7371 non-null   int64  \n",
      " 81  실질GDP성장_추세_감소               7371 non-null   int64  \n",
      " 82  실질GDP성장_추세_증가               7371 non-null   int64  \n",
      " 83  산업위험_경기민감도_A                7371 non-null   int64  \n",
      " 84  산업위험_경기민감도_AA               7371 non-null   int64  \n",
      " 85  산업위험_경기민감도_B                7371 non-null   int64  \n",
      " 86  산업위험_경기민감도_BB               7371 non-null   int64  \n",
      " 87  산업위험_경기민감도_BBB              7371 non-null   int64  \n",
      " 88  K2_부실판단_건전판정                7371 non-null   int64  \n",
      " 89  K2_부실판단_부실가능                7371 non-null   int64  \n",
      " 90  K2_부실판단_판정보류                7371 non-null   int64  \n",
      "dtypes: float64(48), int64(43)\n",
      "memory usage: 5.1 MB\n"
     ]
    }
   ],
   "source": [
    "df_train.info()"
   ]
  },
  {
   "cell_type": "markdown",
   "metadata": {},
   "source": [
    "### Scailing : Standard scale"
   ]
  },
  {
   "cell_type": "code",
   "execution_count": 100,
   "metadata": {},
   "outputs": [],
   "source": [
    "selected_columns =  ['유동비율(%)', '당좌비율(%)', '비유동비율(%)', '부채비율(%)', '유동부채비율(%)', '차입금의존도(%)',\n",
    "    '이익잉여금비율(%)', '순운전자본비율(%)', '비유동장기적합률(%)', '이자보상배율(이자비용)(배)',\n",
    "    '외화포지션(배)', '총자본순이익률(%)', '자기자본순이익률(%)', '경영자본순이익률(%)', '매출액순이익률(%)',\n",
    "    '총자본정상영업이익률(%)', '자기자본정상영업이익률(%)', '매출액정상영업이익률(%)', '금융비용부담률(%)',\n",
    "    '총자산회전율(배)', '매출채권회전률(배)', '당좌자산회전률(배)', '재고자산회전률(배)', '유형자산회전율(배)',\n",
    "    '매입채무회전률(배)', '자기자본회전률(배)', '경영자본회전률(배)', '유동자산증가율(%)', '매출액증가율(%)',\n",
    "    '정상영업이익증가율(%)', '순이익증가율(%)', 'spread(%)', 'PPI(2015기준)', '실질GDP성장률(%)',\n",
    "    'EV/EBITDA(배)', '52주베타(배)', 'PER', 'PBR', 'PCR', 'CASH FLOW 대 부채비율(%)',\n",
    "    '총자본투자효율(%)', 'log_평균총자산', 'K2_score']# 수치형 데이터 컬럼의 인덱스를 넣어주세요.\n",
    "\n",
    "# StandardScaler 객체를 생성합니다.\n",
    "scaler = StandardScaler()\n",
    "\n",
    "# 데이터프레임의 선택된 수치형 데이터 컬럼에 스탠다드 스케일링을 적용하고, 새로운 컬럼에 저장합니다.\n",
    "df_train_2 = df_train .copy()  # 원본 데이터프레임을 복사합니다.\n",
    "df_train_2[selected_columns] = scaler.fit_transform(df_train [selected_columns])\n",
    "df_test_2 = df_test .copy()  # 원본 데이터프레임을 복사합니다.\n",
    "df_test_2[selected_columns] = scaler.transform(df_test[selected_columns])\n"
   ]
  },
  {
   "cell_type": "code",
   "execution_count": 101,
   "metadata": {},
   "outputs": [
    {
     "data": {
      "text/plain": [
       "Index(['유동비율(%)', '당좌비율(%)', '비유동비율(%)', '부채비율(%)', '유동부채비율(%)', '차입금의존도(%)',\n",
       "       '이익잉여금비율(%)', '순운전자본비율(%)', '비유동장기적합률(%)', '이자보상배율(이자비용)(배)',\n",
       "       '외화포지션(배)', '총자본순이익률(%)', '자기자본순이익률(%)', '경영자본순이익률(%)', '매출액순이익률(%)',\n",
       "       '총자본정상영업이익률(%)', '자기자본정상영업이익률(%)', '매출액정상영업이익률(%)', '금융비용부담률(%)',\n",
       "       '총자산회전율(배)', '매출채권회전률(배)', '당좌자산회전률(배)', '재고자산회전률(배)', '유형자산회전율(배)',\n",
       "       '매입채무회전률(배)', '자기자본회전률(배)', '경영자본회전률(배)', '유동자산증가율(%)', '매출액증가율(%)',\n",
       "       '정상영업이익증가율(%)', '순이익증가율(%)', 'spread(%)', 'PPI(2015기준)', '실질GDP성장률(%)',\n",
       "       'EV/EBITDA(배)', '52주베타(배)', 'PER', 'PBR', 'PCR', 'CASH FLOW 대 부채비율(%)',\n",
       "       '총자본투자효율(%)', 'log_평균총자산', 'K2_score', '최대주주특수관계인_지분율(%)',\n",
       "       '최대주주변경횟수(회)', '감사법인변경횟수(회)', '업력(년)', '평균근속연수(년)', '직원수증감율(%)',\n",
       "       '기간제비율(%)', 'R&D집중도(%)', '수출기업여부(dummy)', 'Target', '주거래은행_0',\n",
       "       '주거래은행_1', '주거래은행_2', '주거래은행_3', '주거래은행_4', '산업위험_경기민감도_카테고리화_1안_AA',\n",
       "       '산업위험_경기민감도_카테고리화_1안_A_BB', '산업위험_경기민감도_카테고리화_1안_BBB',\n",
       "       '산업위험_경기민감도_카테고리화_2안_AA', '산업위험_경기민감도_카테고리화_2안_A_B',\n",
       "       '산업위험_경기민감도_카테고리화_2안_BB_BBB', '최대주주변경횟수(회)_카테고리화_1안_0회',\n",
       "       '최대주주변경횟수(회)_카테고리화_1안_1~3회', '최대주주변경횟수(회)_카테고리화_1안_4회이상',\n",
       "       '최대주주변경횟수(회)_카테고리화_2안_0~1회', '최대주주변경횟수(회)_카테고리화_2안_2~4회',\n",
       "       '최대주주변경횟수(회)_카테고리화_2안_5회이상', '감사법인변경횟수(회)_카테고리화_1안_0회',\n",
       "       '감사법인변경횟수(회)_카테고리화_1안_1~2회', '감사법인변경횟수(회)_카테고리화_1안_3회이상',\n",
       "       '감사법인변경횟수(회)_카테고리화_2안_0회', '감사법인변경횟수(회)_카테고리화_2안_1회이상',\n",
       "       '장단기금리차_추세_1안_감소', '장단기금리차_추세_1안_증가', '장단기금리차_추세_2안_-',\n",
       "       '장단기금리차_추세_2안_역전', '생산자물가지수_추세_감소', '생산자물가지수_추세_증가', '실질GDP성장_추세_감소',\n",
       "       '실질GDP성장_추세_증가', '산업위험_경기민감도_A', '산업위험_경기민감도_AA', '산업위험_경기민감도_B',\n",
       "       '산업위험_경기민감도_BB', '산업위험_경기민감도_BBB', 'K2_부실판단_건전판정', 'K2_부실판단_부실가능',\n",
       "       'K2_부실판단_판정보류'],\n",
       "      dtype='object')"
      ]
     },
     "execution_count": 101,
     "metadata": {},
     "output_type": "execute_result"
    }
   ],
   "source": [
    "df_train_2.columns"
   ]
  },
  {
   "cell_type": "markdown",
   "metadata": {},
   "source": [
    "이 부분 피쳐이름만 수정하면 됨"
   ]
  },
  {
   "cell_type": "code",
   "execution_count": 102,
   "metadata": {},
   "outputs": [],
   "source": [
    "X_train = df_train_2[['순운전자본비율(%)','총자본순이익률(%)','자기자본정상영업이익률(%)','총자산회전율(배)','52주베타(배)','최대주주특수관계인_지분율(%)','업력(년)', '평균근속연수(년)', '직원수증감율(%)',\n",
    "       '기간제비율(%)','R&D집중도(%)','K2_score','매출액순이익률(%)']]\n",
    "y_train = df_train['Target']\n",
    "\n",
    "X_test = df_test_2[['순운전자본비율(%)','총자본순이익률(%)','자기자본정상영업이익률(%)','총자산회전율(배)','52주베타(배)','최대주주특수관계인_지분율(%)','업력(년)', '평균근속연수(년)', '직원수증감율(%)',\n",
    "       '기간제비율(%)','R&D집중도(%)','K2_score','매출액순이익률(%)']]\n",
    "y_test = df_test['Target']\n"
   ]
  },
  {
   "cell_type": "markdown",
   "metadata": {},
   "source": [
    "### over sampling : SMOTE"
   ]
  },
  {
   "cell_type": "code",
   "execution_count": 104,
   "metadata": {},
   "outputs": [],
   "source": [
    "from imblearn.over_sampling import SMOTE\n",
    "\n",
    "sm = SMOTE(random_state=0,sampling_strategy=0.33)\n",
    "x_train_smote, y_train_smote = sm.fit_resample(X_train, y_train)"
   ]
  },
  {
   "cell_type": "code",
   "execution_count": 105,
   "metadata": {},
   "outputs": [
    {
     "data": {
      "text/plain": [
       "Target\n",
       "0    6699\n",
       "1    2210\n",
       "Name: count, dtype: int64"
      ]
     },
     "execution_count": 105,
     "metadata": {},
     "output_type": "execute_result"
    }
   ],
   "source": [
    "y_train_smote.value_counts()"
   ]
  },
  {
   "cell_type": "code",
   "execution_count": 106,
   "metadata": {},
   "outputs": [],
   "source": [
    "df_train_2 = pd.concat([x_train_smote, y_train_smote],axis=1)"
   ]
  },
  {
   "cell_type": "code",
   "execution_count": 107,
   "metadata": {},
   "outputs": [],
   "source": [
    "X_train_final = df_train_2.drop(\"Target\",axis=True)\n",
    "y_train_fianl = df_train_2['Target']"
   ]
  },
  {
   "cell_type": "code",
   "execution_count": null,
   "metadata": {},
   "outputs": [],
   "source": []
  },
  {
   "cell_type": "code",
   "execution_count": 108,
   "metadata": {},
   "outputs": [],
   "source": [
    "from sklearn.linear_model import LogisticRegression\n",
    "from sklearn.tree import DecisionTreeClassifier\n",
    "from sklearn.svm import SVC\n",
    "from sklearn.ensemble import RandomForestClassifier\n",
    "from xgboost import XGBClassifier\n",
    "from lightgbm import LGBMClassifier\n",
    "from sklearn.metrics import confusion_matrix, precision_score, recall_score, accuracy_score, f1_score, roc_auc_score"
   ]
  },
  {
   "cell_type": "code",
   "execution_count": 109,
   "metadata": {},
   "outputs": [],
   "source": [
    "def model_basic(X_train, y_train, X_test, y_test):\n",
    "    models = [\n",
    "        DecisionTreeClassifier(),\n",
    "        RandomForestClassifier(),\n",
    "        XGBClassifier(),\n",
    "        LGBMClassifier()\n",
    "    ]\n",
    "\n",
    "    rdict={'model':[],'accuracy':[],'precision':[],'recall':[],'f1_score':[]}\n",
    "\n",
    "    \n",
    "    for clf in models:\n",
    "        clf = clf.fit(X_train, y_train)\n",
    "        pred = clf.predict(X_test)\n",
    "        results = (round(accuracy_score(y_test, pred),2),\n",
    "                    round(precision_score(y_test, pred),2),\n",
    "                    round(recall_score(y_test, pred),2),\n",
    "                    round(f1_score(y_test, pred),2))\n",
    "        rdict['model'].append(clf); \n",
    "        rdict['accuracy'].append(results[0])\n",
    "        rdict['precision'].append(results[1])\n",
    "        rdict['recall'].append(results[2])\n",
    "        rdict['f1_score'].append(results[3])\n",
    "\n",
    "        # print(results)\n",
    "\n",
    "    rdf = pd.DataFrame(data=rdict)\n",
    "    return rdf "
   ]
  },
  {
   "cell_type": "code",
   "execution_count": 110,
   "metadata": {},
   "outputs": [
    {
     "name": "stdout",
     "output_type": "stream",
     "text": [
      "[LightGBM] [Info] Number of positive: 2210, number of negative: 6699\n",
      "[LightGBM] [Warning] Auto-choosing col-wise multi-threading, the overhead of testing was 0.000493 seconds.\n",
      "You can set `force_col_wise=true` to remove the overhead.\n",
      "[LightGBM] [Info] Total Bins 3091\n",
      "[LightGBM] [Info] Number of data points in the train set: 8909, number of used features: 13\n",
      "[LightGBM] [Info] [binary:BoostFromScore]: pavg=0.248064 -> initscore=-1.108966\n",
      "[LightGBM] [Info] Start training from score -1.108966\n"
     ]
    }
   ],
   "source": [
    "result_df = model_basic(X_train_final, y_train_fianl, X_test, y_test)"
   ]
  },
  {
   "cell_type": "code",
   "execution_count": 111,
   "metadata": {},
   "outputs": [
    {
     "data": {
      "text/html": [
       "<div>\n",
       "<style scoped>\n",
       "    .dataframe tbody tr th:only-of-type {\n",
       "        vertical-align: middle;\n",
       "    }\n",
       "\n",
       "    .dataframe tbody tr th {\n",
       "        vertical-align: top;\n",
       "    }\n",
       "\n",
       "    .dataframe thead th {\n",
       "        text-align: right;\n",
       "    }\n",
       "</style>\n",
       "<table border=\"1\" class=\"dataframe\">\n",
       "  <thead>\n",
       "    <tr style=\"text-align: right;\">\n",
       "      <th></th>\n",
       "      <th>model</th>\n",
       "      <th>accuracy</th>\n",
       "      <th>precision</th>\n",
       "      <th>recall</th>\n",
       "      <th>f1_score</th>\n",
       "    </tr>\n",
       "  </thead>\n",
       "  <tbody>\n",
       "    <tr>\n",
       "      <th>0</th>\n",
       "      <td>DecisionTreeClassifier()</td>\n",
       "      <td>0.84</td>\n",
       "      <td>0.21</td>\n",
       "      <td>0.45</td>\n",
       "      <td>0.28</td>\n",
       "    </tr>\n",
       "    <tr>\n",
       "      <th>1</th>\n",
       "      <td>(DecisionTreeClassifier(max_features='sqrt', r...</td>\n",
       "      <td>0.91</td>\n",
       "      <td>0.39</td>\n",
       "      <td>0.55</td>\n",
       "      <td>0.46</td>\n",
       "    </tr>\n",
       "    <tr>\n",
       "      <th>2</th>\n",
       "      <td>XGBClassifier(base_score=None, booster=None, c...</td>\n",
       "      <td>0.91</td>\n",
       "      <td>0.40</td>\n",
       "      <td>0.57</td>\n",
       "      <td>0.47</td>\n",
       "    </tr>\n",
       "    <tr>\n",
       "      <th>3</th>\n",
       "      <td>LGBMClassifier()</td>\n",
       "      <td>0.91</td>\n",
       "      <td>0.38</td>\n",
       "      <td>0.56</td>\n",
       "      <td>0.45</td>\n",
       "    </tr>\n",
       "  </tbody>\n",
       "</table>\n",
       "</div>"
      ],
      "text/plain": [
       "                                               model  accuracy  precision  \\\n",
       "0                           DecisionTreeClassifier()      0.84       0.21   \n",
       "1  (DecisionTreeClassifier(max_features='sqrt', r...      0.91       0.39   \n",
       "2  XGBClassifier(base_score=None, booster=None, c...      0.91       0.40   \n",
       "3                                   LGBMClassifier()      0.91       0.38   \n",
       "\n",
       "   recall  f1_score  \n",
       "0    0.45      0.28  \n",
       "1    0.55      0.46  \n",
       "2    0.57      0.47  \n",
       "3    0.56      0.45  "
      ]
     },
     "execution_count": 111,
     "metadata": {},
     "output_type": "execute_result"
    }
   ],
   "source": [
    "result_df"
   ]
  },
  {
   "cell_type": "code",
   "execution_count": 112,
   "metadata": {},
   "outputs": [
    {
     "data": {
      "image/png": "[encoded data removed]",
      "text/plain": [
       "<Figure size 1000x600 with 1 Axes>"
      ]
     },
     "metadata": {},
     "output_type": "display_data"
    }
   ],
   "source": [
    "import matplotlib.pyplot as plt\n",
    "plt.rcParams['font.family'] = 'Malgun Gothic'\n",
    "\n",
    "dt_clf = result_df['model'][3]  # DecisionTreeClassifier 모델 선택\n",
    "feature_importance = dt_clf.feature_importances_\n",
    "\n",
    "# 각 feature의 중요도를 그래프로 표현\n",
    "plt.figure(figsize=(10, 6))\n",
    "plt.bar(range(len(feature_importance)), feature_importance, align='center')\n",
    "plt.xticks(range(len(feature_importance)), X_train.columns, rotation=90)\n",
    "plt.xlabel('Feature')\n",
    "plt.ylabel('Importance')\n",
    "plt.title('DecisionTreeClassifier Feature Importance')\n",
    "plt.tight_layout()\n",
    "plt.show()"
   ]
  }
 ],
 "metadata": {
  "kernelspec": {
   "display_name": "Python 3",
   "language": "python",
   "name": "python3"
  },
  "language_info": {
   "codemirror_mode": {
    "name": "ipython",
    "version": 3
   },
   "file_extension": ".py",
   "mimetype": "text/x-python",
   "name": "python",
   "nbconvert_exporter": "python",
   "pygments_lexer": "ipython3",
   "version": "3.9.11"
  },
  "orig_nbformat": 4
 },
 "nbformat": 4,
 "nbformat_minor": 2
}
