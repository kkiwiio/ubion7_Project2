{
 "cells": [
  {
   "cell_type": "code",
   "execution_count": 63,
   "metadata": {},
   "outputs": [],
   "source": [
    "import pandas as pd\n",
    "from sklearn.compose import ColumnTransformer\n",
    "from sklearn.pipeline import Pipeline\n",
    "from sklearn.preprocessing import OneHotEncoder, StandardScaler\n",
    "from sklearn.tree import DecisionTreeClassifier\n",
    "from sklearn.ensemble import RandomForestClassifier\n",
    "import lightgbm as lgb"
   ]
  },
  {
   "cell_type": "code",
   "execution_count": 64,
   "metadata": {},
   "outputs": [],
   "source": [
    "# main_df = pd.read_excel('./main_df_dropna_completed.xlsx',index_col=0)"
   ]
  },
  {
   "cell_type": "code",
   "execution_count": 65,
   "metadata": {},
   "outputs": [],
   "source": [
    "# main_df.drop(['K2_부실판단'],axis=1,inplace=True)"
   ]
  },
  {
   "cell_type": "code",
   "execution_count": 66,
   "metadata": {},
   "outputs": [],
   "source": [
    "# onehot_features = ['산업위험_경기민감도']\n",
    "# binary_features = ['주거래은행'] "
   ]
  },
  {
   "cell_type": "code",
   "execution_count": 67,
   "metadata": {},
   "outputs": [],
   "source": [
    "transformers = []"
   ]
  },
  {
   "cell_type": "code",
   "execution_count": 68,
   "metadata": {},
   "outputs": [],
   "source": [
    "# if onehot_features:\n",
    "#     transformers.append(('onehot', OneHotEncoder(handle_unknown='ignore'), onehot_features))\n"
   ]
  },
  {
   "cell_type": "code",
   "execution_count": 69,
   "metadata": {},
   "outputs": [],
   "source": [
    "# if binary_features:\n",
    "#     binary_transformer = Pipeline(steps=[\n",
    "#         ('binary_onehot', OneHotEncoder(sparse=False,handle_unknown='ignore'))  # 원-핫 인코딩 대신 바이너리 인코딩으로 변경\n",
    "#     ])\n",
    "#     transformers.append(('binary', binary_transformer, binary_features))\n",
    "\n"
   ]
  },
  {
   "cell_type": "code",
   "execution_count": 70,
   "metadata": {},
   "outputs": [],
   "source": [
    "numeric_features = ['유동비율(%)', '당좌비율(%)', '비유동비율(%)',\n",
    "       '부채비율(%)', '유동부채비율(%)', '차입금의존도(%)', '이익잉여금비율(%)', '순운전자본비율(%)',\n",
    "       '비유동장기적합률(%)', '이자보상배율(이자비용)(배)', '외화포지션(배)', '총자본순이익률(%)',\n",
    "       '자기자본순이익률(%)', '경영자본순이익률(%)', '매출액순이익률(%)', '총자본정상영업이익률(%)',\n",
    "       '자기자본정상영업이익률(%)', '매출액정상영업이익률(%)', '금융비용부담률(%)', '총자산회전율(배)',\n",
    "       '매출채권회전률(배)', '당좌자산회전률(배)', '재고자산회전률(배)', '유형자산회전율(배)', '매입채무회전률(배)',\n",
    "       '자기자본회전률(배)', '경영자본회전률(배)', '유동자산증가율(%)', '매출액증가율(%)', '정상영업이익증가율(%)',\n",
    "       '순이익증가율(%)', 'spread(%)', 'PPI(2015기준)', '실질GDP성장률(%)', 'EV/EBITDA(배)',\n",
    "       '52주베타(배)', 'PER', 'PBR', 'PCR', 'CASH FLOW 대 부채비율(%)', '총자본투자효율(%)',\n",
    "       'log_평균총자산', 'K2_score']\n",
    "numeric_transformer = Pipeline(steps=[\n",
    "    ('scaler', StandardScaler())\n",
    "])"
   ]
  },
  {
   "cell_type": "code",
   "execution_count": 71,
   "metadata": {},
   "outputs": [],
   "source": [
    "transformers.append(('numeric_scaled', numeric_transformer, numeric_features))\n",
    "preprocessor = ColumnTransformer(transformers=transformers)"
   ]
  },
  {
   "cell_type": "code",
   "execution_count": 72,
   "metadata": {},
   "outputs": [],
   "source": [
    "# df_train = main_df.loc[main_df['회계년도'] <= 2019]\n",
    "# df_test = main_df.loc[main_df['회계년도'] > 2019]"
   ]
  },
  {
   "cell_type": "code",
   "execution_count": 73,
   "metadata": {},
   "outputs": [],
   "source": [
    "df_train=pd.read_excel('./train.xlsx',index_col=0)"
   ]
  },
  {
   "cell_type": "code",
   "execution_count": 74,
   "metadata": {},
   "outputs": [],
   "source": [
    "df_train = df_train.reset_index()"
   ]
  },
  {
   "cell_type": "code",
   "execution_count": 75,
   "metadata": {},
   "outputs": [
    {
     "name": "stdout",
     "output_type": "stream",
     "text": [
      "<class 'pandas.core.frame.DataFrame'>\n",
      "RangeIndex: 7371 entries, 0 to 7370\n",
      "Data columns (total 98 columns):\n",
      " #   Column                      Non-Null Count  Dtype  \n",
      "---  ------                      --------------  -----  \n",
      " 0   index                       7371 non-null   int64  \n",
      " 1   회사명                         7371 non-null   object \n",
      " 2   거래소코드                       7371 non-null   int64  \n",
      " 3   회계년도                        7371 non-null   int64  \n",
      " 4   유동비율(%)                     7371 non-null   float64\n",
      " 5   당좌비율(%)                     7371 non-null   float64\n",
      " 6   비유동비율(%)                    7371 non-null   float64\n",
      " 7   부채비율(%)                     7371 non-null   float64\n",
      " 8   유동부채비율(%)                   7371 non-null   float64\n",
      " 9   차입금의존도(%)                   7371 non-null   float64\n",
      " 10  이익잉여금비율(%)                  7371 non-null   float64\n",
      " 11  순운전자본비율(%)                  7371 non-null   float64\n",
      " 12  비유동장기적합률(%)                 7371 non-null   float64\n",
      " 13  이자보상배율(이자비용)(배)             7371 non-null   float64\n",
      " 14  외화포지션(배)                    7371 non-null   float64\n",
      " 15  총자본순이익률(%)                  7371 non-null   float64\n",
      " 16  자기자본순이익률(%)                 7371 non-null   float64\n",
      " 17  경영자본순이익률(%)                 7371 non-null   float64\n",
      " 18  매출액순이익률(%)                  7371 non-null   float64\n",
      " 19  총자본정상영업이익률(%)               7371 non-null   float64\n",
      " 20  자기자본정상영업이익률(%)              7371 non-null   float64\n",
      " 21  매출액정상영업이익률(%)               7371 non-null   float64\n",
      " 22  금융비용부담률(%)                  7371 non-null   float64\n",
      " 23  총자산회전율(배)                   7371 non-null   float64\n",
      " 24  매출채권회전률(배)                  7371 non-null   float64\n",
      " 25  당좌자산회전률(배)                  7371 non-null   float64\n",
      " 26  재고자산회전률(배)                  7371 non-null   float64\n",
      " 27  유형자산회전율(배)                  7371 non-null   float64\n",
      " 28  매입채무회전률(배)                  7371 non-null   float64\n",
      " 29  자기자본회전률(배)                  7371 non-null   float64\n",
      " 30  경영자본회전률(배)                  7371 non-null   float64\n",
      " 31  유동자산증가율(%)                  7371 non-null   float64\n",
      " 32  매출액증가율(%)                   7371 non-null   float64\n",
      " 33  정상영업이익증가율(%)                7371 non-null   float64\n",
      " 34  순이익증가율(%)                   7371 non-null   float64\n",
      " 35  spread(%)                   7371 non-null   float64\n",
      " 36  PPI(2015기준)                 7371 non-null   float64\n",
      " 37  실질GDP성장률(%)                 7371 non-null   float64\n",
      " 38  EV/EBITDA(배)                7371 non-null   float64\n",
      " 39  52주베타(배)                    7371 non-null   float64\n",
      " 40  PER                         7371 non-null   float64\n",
      " 41  PBR                         7371 non-null   float64\n",
      " 42  PCR                         7371 non-null   float64\n",
      " 43  CASH FLOW 대 부채비율(%)         7371 non-null   float64\n",
      " 44  총자본투자효율(%)                  7371 non-null   float64\n",
      " 45  log_평균총자산                   7371 non-null   float64\n",
      " 46  K2_score                    7371 non-null   float64\n",
      " 47  K2_부실판단                     7371 non-null   object \n",
      " 48  산업위험_경기민감도                  7371 non-null   object \n",
      " 49  최대주주특수관계인_지분율(%)            7371 non-null   float64\n",
      " 50  최대주주변경횟수(회)                 7371 non-null   int64  \n",
      " 51  감사법인변경횟수(회)                 7371 non-null   int64  \n",
      " 52  업력(년)                       7371 non-null   int64  \n",
      " 53  평균근속연수(년)                   7371 non-null   float64\n",
      " 54  직원수증감율(%)                   7371 non-null   float64\n",
      " 55  기간제비율(%)                    7371 non-null   float64\n",
      " 56  R&D집중도(%)                   7371 non-null   float64\n",
      " 57  수출기업여부(dummy)               7371 non-null   int64  \n",
      " 58  주거래은행                       7371 non-null   object \n",
      " 59  Target                      7371 non-null   int64  \n",
      " 60  주거래은행_0                     7371 non-null   int64  \n",
      " 61  주거래은행_1                     7371 non-null   int64  \n",
      " 62  주거래은행_2                     7371 non-null   int64  \n",
      " 63  주거래은행_3                     7371 non-null   int64  \n",
      " 64  주거래은행_4                     7371 non-null   int64  \n",
      " 65  산업위험_경기민감도_카테고리화_1안_AA      7371 non-null   int64  \n",
      " 66  산업위험_경기민감도_카테고리화_1안_A_BB    7371 non-null   int64  \n",
      " 67  산업위험_경기민감도_카테고리화_1안_BBB     7371 non-null   int64  \n",
      " 68  산업위험_경기민감도_카테고리화_2안_AA      7371 non-null   int64  \n",
      " 69  산업위험_경기민감도_카테고리화_2안_A_B     7371 non-null   int64  \n",
      " 70  산업위험_경기민감도_카테고리화_2안_BB_BBB  7371 non-null   int64  \n",
      " 71  최대주주변경횟수(회)_카테고리화_1안_0회     7371 non-null   int64  \n",
      " 72  최대주주변경횟수(회)_카테고리화_1안_1~3회   7371 non-null   int64  \n",
      " 73  최대주주변경횟수(회)_카테고리화_1안_4회이상   7371 non-null   int64  \n",
      " 74  최대주주변경횟수(회)_카테고리화_2안_0~1회   7371 non-null   int64  \n",
      " 75  최대주주변경횟수(회)_카테고리화_2안_2~4회   7371 non-null   int64  \n",
      " 76  최대주주변경횟수(회)_카테고리화_2안_5회이상   7371 non-null   int64  \n",
      " 77  감사법인변경횟수(회)_카테고리화_1안_0회     7371 non-null   int64  \n",
      " 78  감사법인변경횟수(회)_카테고리화_1안_1~2회   7371 non-null   int64  \n",
      " 79  감사법인변경횟수(회)_카테고리화_1안_3회이상   7371 non-null   int64  \n",
      " 80  감사법인변경횟수(회)_카테고리화_2안_0회     7371 non-null   int64  \n",
      " 81  감사법인변경횟수(회)_카테고리화_2안_1회이상   7371 non-null   int64  \n",
      " 82  장단기금리차_추세_1안_감소             7371 non-null   int64  \n",
      " 83  장단기금리차_추세_1안_증가             7371 non-null   int64  \n",
      " 84  장단기금리차_추세_2안_-              7371 non-null   int64  \n",
      " 85  장단기금리차_추세_2안_역전             7371 non-null   int64  \n",
      " 86  생산자물가지수_추세_감소               7371 non-null   int64  \n",
      " 87  생산자물가지수_추세_증가               7371 non-null   int64  \n",
      " 88  실질GDP성장_추세_감소               7371 non-null   int64  \n",
      " 89  실질GDP성장_추세_증가               7371 non-null   int64  \n",
      " 90  산업위험_경기민감도_A                7371 non-null   int64  \n",
      " 91  산업위험_경기민감도_AA               7371 non-null   int64  \n",
      " 92  산업위험_경기민감도_B                7371 non-null   int64  \n",
      " 93  산업위험_경기민감도_BB               7371 non-null   int64  \n",
      " 94  산업위험_경기민감도_BBB              7371 non-null   int64  \n",
      " 95  K2_부실판단_건전판정                7371 non-null   int64  \n",
      " 96  K2_부실판단_부실가능                7371 non-null   int64  \n",
      " 97  K2_부실판단_판정보류                7371 non-null   int64  \n",
      "dtypes: float64(48), int64(46), object(4)\n",
      "memory usage: 5.5+ MB\n"
     ]
    }
   ],
   "source": [
    "df_train.info()"
   ]
  },
  {
   "cell_type": "code",
   "execution_count": 76,
   "metadata": {},
   "outputs": [],
   "source": [
    "df_train.drop(['index','주거래은행','K2_부실판단', '산업위험_경기민감도'],axis=1,inplace=True)"
   ]
  },
  {
   "cell_type": "code",
   "execution_count": 77,
   "metadata": {},
   "outputs": [],
   "source": [
    "df_test=pd.read_excel('./test.xlsx',index_col=0)"
   ]
  },
  {
   "cell_type": "code",
   "execution_count": 78,
   "metadata": {},
   "outputs": [],
   "source": [
    "df_test = df_test.reset_index()"
   ]
  },
  {
   "cell_type": "code",
   "execution_count": 79,
   "metadata": {},
   "outputs": [],
   "source": [
    "\n",
    "df_test.drop(['index','주거래은행','K2_부실판단', '산업위험_경기민감도'],axis=1,inplace=True)"
   ]
  },
  {
   "cell_type": "code",
   "execution_count": 82,
   "metadata": {},
   "outputs": [],
   "source": [
    "X_train = df_train.drop(['회사명', '거래소코드', '회계년도'], axis=1)\n",
    "y_train = df_train['Target']\n",
    "\n",
    "X_test = df_test.drop(['회사명', '거래소코드', '회계년도','표준산업분류_중분류'],axis=1)\n",
    "y_test = df_test['Target']\n"
   ]
  },
  {
   "cell_type": "code",
   "execution_count": 83,
   "metadata": {},
   "outputs": [
    {
     "name": "stdout",
     "output_type": "stream",
     "text": [
      "<class 'pandas.core.frame.DataFrame'>\n",
      "RangeIndex: 7371 entries, 0 to 7370\n",
      "Data columns (total 91 columns):\n",
      " #   Column                      Non-Null Count  Dtype  \n",
      "---  ------                      --------------  -----  \n",
      " 0   유동비율(%)                     7371 non-null   float64\n",
      " 1   당좌비율(%)                     7371 non-null   float64\n",
      " 2   비유동비율(%)                    7371 non-null   float64\n",
      " 3   부채비율(%)                     7371 non-null   float64\n",
      " 4   유동부채비율(%)                   7371 non-null   float64\n",
      " 5   차입금의존도(%)                   7371 non-null   float64\n",
      " 6   이익잉여금비율(%)                  7371 non-null   float64\n",
      " 7   순운전자본비율(%)                  7371 non-null   float64\n",
      " 8   비유동장기적합률(%)                 7371 non-null   float64\n",
      " 9   이자보상배율(이자비용)(배)             7371 non-null   float64\n",
      " 10  외화포지션(배)                    7371 non-null   float64\n",
      " 11  총자본순이익률(%)                  7371 non-null   float64\n",
      " 12  자기자본순이익률(%)                 7371 non-null   float64\n",
      " 13  경영자본순이익률(%)                 7371 non-null   float64\n",
      " 14  매출액순이익률(%)                  7371 non-null   float64\n",
      " 15  총자본정상영업이익률(%)               7371 non-null   float64\n",
      " 16  자기자본정상영업이익률(%)              7371 non-null   float64\n",
      " 17  매출액정상영업이익률(%)               7371 non-null   float64\n",
      " 18  금융비용부담률(%)                  7371 non-null   float64\n",
      " 19  총자산회전율(배)                   7371 non-null   float64\n",
      " 20  매출채권회전률(배)                  7371 non-null   float64\n",
      " 21  당좌자산회전률(배)                  7371 non-null   float64\n",
      " 22  재고자산회전률(배)                  7371 non-null   float64\n",
      " 23  유형자산회전율(배)                  7371 non-null   float64\n",
      " 24  매입채무회전률(배)                  7371 non-null   float64\n",
      " 25  자기자본회전률(배)                  7371 non-null   float64\n",
      " 26  경영자본회전률(배)                  7371 non-null   float64\n",
      " 27  유동자산증가율(%)                  7371 non-null   float64\n",
      " 28  매출액증가율(%)                   7371 non-null   float64\n",
      " 29  정상영업이익증가율(%)                7371 non-null   float64\n",
      " 30  순이익증가율(%)                   7371 non-null   float64\n",
      " 31  spread(%)                   7371 non-null   float64\n",
      " 32  PPI(2015기준)                 7371 non-null   float64\n",
      " 33  실질GDP성장률(%)                 7371 non-null   float64\n",
      " 34  EV/EBITDA(배)                7371 non-null   float64\n",
      " 35  52주베타(배)                    7371 non-null   float64\n",
      " 36  PER                         7371 non-null   float64\n",
      " 37  PBR                         7371 non-null   float64\n",
      " 38  PCR                         7371 non-null   float64\n",
      " 39  CASH FLOW 대 부채비율(%)         7371 non-null   float64\n",
      " 40  총자본투자효율(%)                  7371 non-null   float64\n",
      " 41  log_평균총자산                   7371 non-null   float64\n",
      " 42  K2_score                    7371 non-null   float64\n",
      " 43  최대주주특수관계인_지분율(%)            7371 non-null   float64\n",
      " 44  최대주주변경횟수(회)                 7371 non-null   int64  \n",
      " 45  감사법인변경횟수(회)                 7371 non-null   int64  \n",
      " 46  업력(년)                       7371 non-null   int64  \n",
      " 47  평균근속연수(년)                   7371 non-null   float64\n",
      " 48  직원수증감율(%)                   7371 non-null   float64\n",
      " 49  기간제비율(%)                    7371 non-null   float64\n",
      " 50  R&D집중도(%)                   7371 non-null   float64\n",
      " 51  수출기업여부(dummy)               7371 non-null   int64  \n",
      " 52  Target                      7371 non-null   int64  \n",
      " 53  주거래은행_0                     7371 non-null   int64  \n",
      " 54  주거래은행_1                     7371 non-null   int64  \n",
      " 55  주거래은행_2                     7371 non-null   int64  \n",
      " 56  주거래은행_3                     7371 non-null   int64  \n",
      " 57  주거래은행_4                     7371 non-null   int64  \n",
      " 58  산업위험_경기민감도_카테고리화_1안_AA      7371 non-null   int64  \n",
      " 59  산업위험_경기민감도_카테고리화_1안_A_BB    7371 non-null   int64  \n",
      " 60  산업위험_경기민감도_카테고리화_1안_BBB     7371 non-null   int64  \n",
      " 61  산업위험_경기민감도_카테고리화_2안_AA      7371 non-null   int64  \n",
      " 62  산업위험_경기민감도_카테고리화_2안_A_B     7371 non-null   int64  \n",
      " 63  산업위험_경기민감도_카테고리화_2안_BB_BBB  7371 non-null   int64  \n",
      " 64  최대주주변경횟수(회)_카테고리화_1안_0회     7371 non-null   int64  \n",
      " 65  최대주주변경횟수(회)_카테고리화_1안_1~3회   7371 non-null   int64  \n",
      " 66  최대주주변경횟수(회)_카테고리화_1안_4회이상   7371 non-null   int64  \n",
      " 67  최대주주변경횟수(회)_카테고리화_2안_0~1회   7371 non-null   int64  \n",
      " 68  최대주주변경횟수(회)_카테고리화_2안_2~4회   7371 non-null   int64  \n",
      " 69  최대주주변경횟수(회)_카테고리화_2안_5회이상   7371 non-null   int64  \n",
      " 70  감사법인변경횟수(회)_카테고리화_1안_0회     7371 non-null   int64  \n",
      " 71  감사법인변경횟수(회)_카테고리화_1안_1~2회   7371 non-null   int64  \n",
      " 72  감사법인변경횟수(회)_카테고리화_1안_3회이상   7371 non-null   int64  \n",
      " 73  감사법인변경횟수(회)_카테고리화_2안_0회     7371 non-null   int64  \n",
      " 74  감사법인변경횟수(회)_카테고리화_2안_1회이상   7371 non-null   int64  \n",
      " 75  장단기금리차_추세_1안_감소             7371 non-null   int64  \n",
      " 76  장단기금리차_추세_1안_증가             7371 non-null   int64  \n",
      " 77  장단기금리차_추세_2안_-              7371 non-null   int64  \n",
      " 78  장단기금리차_추세_2안_역전             7371 non-null   int64  \n",
      " 79  생산자물가지수_추세_감소               7371 non-null   int64  \n",
      " 80  생산자물가지수_추세_증가               7371 non-null   int64  \n",
      " 81  실질GDP성장_추세_감소               7371 non-null   int64  \n",
      " 82  실질GDP성장_추세_증가               7371 non-null   int64  \n",
      " 83  산업위험_경기민감도_A                7371 non-null   int64  \n",
      " 84  산업위험_경기민감도_AA               7371 non-null   int64  \n",
      " 85  산업위험_경기민감도_B                7371 non-null   int64  \n",
      " 86  산업위험_경기민감도_BB               7371 non-null   int64  \n",
      " 87  산업위험_경기민감도_BBB              7371 non-null   int64  \n",
      " 88  K2_부실판단_건전판정                7371 non-null   int64  \n",
      " 89  K2_부실판단_부실가능                7371 non-null   int64  \n",
      " 90  K2_부실판단_판정보류                7371 non-null   int64  \n",
      "dtypes: float64(48), int64(43)\n",
      "memory usage: 5.1 MB\n"
     ]
    }
   ],
   "source": [
    "X_train.info()"
   ]
  },
  {
   "cell_type": "code",
   "execution_count": 84,
   "metadata": {},
   "outputs": [
    {
     "name": "stdout",
     "output_type": "stream",
     "text": [
      "<class 'pandas.core.frame.DataFrame'>\n",
      "RangeIndex: 3527 entries, 0 to 3526\n",
      "Data columns (total 91 columns):\n",
      " #   Column                      Non-Null Count  Dtype  \n",
      "---  ------                      --------------  -----  \n",
      " 0   유동비율(%)                     3527 non-null   float64\n",
      " 1   당좌비율(%)                     3527 non-null   float64\n",
      " 2   비유동비율(%)                    3527 non-null   float64\n",
      " 3   부채비율(%)                     3527 non-null   float64\n",
      " 4   유동부채비율(%)                   3527 non-null   float64\n",
      " 5   차입금의존도(%)                   3527 non-null   float64\n",
      " 6   이익잉여금비율(%)                  3527 non-null   float64\n",
      " 7   순운전자본비율(%)                  3527 non-null   float64\n",
      " 8   비유동장기적합률(%)                 3527 non-null   float64\n",
      " 9   이자보상배율(이자비용)(배)             3527 non-null   float64\n",
      " 10  외화포지션(배)                    3527 non-null   float64\n",
      " 11  총자본순이익률(%)                  3527 non-null   float64\n",
      " 12  자기자본순이익률(%)                 3527 non-null   float64\n",
      " 13  경영자본순이익률(%)                 3527 non-null   float64\n",
      " 14  매출액순이익률(%)                  3527 non-null   float64\n",
      " 15  총자본정상영업이익률(%)               3527 non-null   float64\n",
      " 16  자기자본정상영업이익률(%)              3527 non-null   float64\n",
      " 17  매출액정상영업이익률(%)               3527 non-null   float64\n",
      " 18  금융비용부담률(%)                  3527 non-null   float64\n",
      " 19  총자산회전율(배)                   3527 non-null   float64\n",
      " 20  매출채권회전률(배)                  3527 non-null   float64\n",
      " 21  당좌자산회전률(배)                  3527 non-null   float64\n",
      " 22  재고자산회전률(배)                  3527 non-null   float64\n",
      " 23  유형자산회전율(배)                  3527 non-null   float64\n",
      " 24  매입채무회전률(배)                  3527 non-null   float64\n",
      " 25  자기자본회전률(배)                  3527 non-null   float64\n",
      " 26  경영자본회전률(배)                  3527 non-null   float64\n",
      " 27  유동자산증가율(%)                  3527 non-null   float64\n",
      " 28  매출액증가율(%)                   3527 non-null   float64\n",
      " 29  정상영업이익증가율(%)                3527 non-null   float64\n",
      " 30  순이익증가율(%)                   3527 non-null   float64\n",
      " 31  spread(%)                   3527 non-null   float64\n",
      " 32  PPI(2015기준)                 3527 non-null   float64\n",
      " 33  실질GDP성장률(%)                 3527 non-null   float64\n",
      " 34  EV/EBITDA(배)                3527 non-null   float64\n",
      " 35  52주베타(배)                    3527 non-null   float64\n",
      " 36  PER                         3527 non-null   float64\n",
      " 37  PBR                         3527 non-null   float64\n",
      " 38  PCR                         3527 non-null   float64\n",
      " 39  CASH FLOW 대 부채비율(%)         3527 non-null   float64\n",
      " 40  총자본투자효율(%)                  3527 non-null   float64\n",
      " 41  log_평균총자산                   3527 non-null   float64\n",
      " 42  K2_score                    3527 non-null   float64\n",
      " 43  최대주주특수관계인_지분율(%)            3527 non-null   float64\n",
      " 44  최대주주변경횟수(회)                 3527 non-null   int64  \n",
      " 45  감사법인변경횟수(회)                 3527 non-null   int64  \n",
      " 46  업력(년)                       3527 non-null   int64  \n",
      " 47  평균근속연수(년)                   3527 non-null   float64\n",
      " 48  직원수증감율(%)                   3527 non-null   float64\n",
      " 49  기간제비율(%)                    3527 non-null   float64\n",
      " 50  R&D집중도(%)                   3527 non-null   float64\n",
      " 51  수출기업여부(dummy)               3527 non-null   int64  \n",
      " 52  Target                      3527 non-null   int64  \n",
      " 53  주거래은행_0                     3527 non-null   int64  \n",
      " 54  주거래은행_1                     3527 non-null   int64  \n",
      " 55  주거래은행_2                     3527 non-null   int64  \n",
      " 56  주거래은행_3                     3527 non-null   int64  \n",
      " 57  주거래은행_4                     3527 non-null   int64  \n",
      " 58  산업위험_경기민감도_카테고리화_1안_AA      3527 non-null   int64  \n",
      " 59  산업위험_경기민감도_카테고리화_1안_A_BB    3527 non-null   int64  \n",
      " 60  산업위험_경기민감도_카테고리화_1안_BBB     3527 non-null   int64  \n",
      " 61  산업위험_경기민감도_카테고리화_2안_AA      3527 non-null   int64  \n",
      " 62  산업위험_경기민감도_카테고리화_2안_A_B     3527 non-null   int64  \n",
      " 63  산업위험_경기민감도_카테고리화_2안_BB_BBB  3527 non-null   int64  \n",
      " 64  최대주주변경횟수(회)_카테고리화_1안_0회     3527 non-null   int64  \n",
      " 65  최대주주변경횟수(회)_카테고리화_1안_1~3회   3527 non-null   int64  \n",
      " 66  최대주주변경횟수(회)_카테고리화_1안_4회이상   3527 non-null   int64  \n",
      " 67  최대주주변경횟수(회)_카테고리화_2안_0~1회   3527 non-null   int64  \n",
      " 68  최대주주변경횟수(회)_카테고리화_2안_2~4회   3527 non-null   int64  \n",
      " 69  최대주주변경횟수(회)_카테고리화_2안_5회이상   3527 non-null   int64  \n",
      " 70  감사법인변경횟수(회)_카테고리화_1안_0회     3527 non-null   int64  \n",
      " 71  감사법인변경횟수(회)_카테고리화_1안_1~2회   3527 non-null   int64  \n",
      " 72  감사법인변경횟수(회)_카테고리화_1안_3회이상   3527 non-null   int64  \n",
      " 73  감사법인변경횟수(회)_카테고리화_2안_0회     3527 non-null   int64  \n",
      " 74  감사법인변경횟수(회)_카테고리화_2안_1회이상   3527 non-null   int64  \n",
      " 75  장단기금리차_추세_1안_감소             3527 non-null   int64  \n",
      " 76  장단기금리차_추세_1안_증가             3527 non-null   int64  \n",
      " 77  장단기금리차_추세_2안_-              3527 non-null   int64  \n",
      " 78  장단기금리차_추세_2안_역전             3527 non-null   int64  \n",
      " 79  생산자물가지수_추세_감소               3527 non-null   int64  \n",
      " 80  생산자물가지수_추세_증가               3527 non-null   int64  \n",
      " 81  실질GDP성장_추세_감소               3527 non-null   int64  \n",
      " 82  실질GDP성장_추세_증가               3527 non-null   int64  \n",
      " 83  산업위험_경기민감도_A                3527 non-null   int64  \n",
      " 84  산업위험_경기민감도_AA               3527 non-null   int64  \n",
      " 85  산업위험_경기민감도_B                3527 non-null   int64  \n",
      " 86  산업위험_경기민감도_BB               3527 non-null   int64  \n",
      " 87  산업위험_경기민감도_BBB              3527 non-null   int64  \n",
      " 88  K2_부실판단_건전판정                3527 non-null   int64  \n",
      " 89  K2_부실판단_부실가능                3527 non-null   int64  \n",
      " 90  K2_부실판단_판정보류                3527 non-null   int64  \n",
      "dtypes: float64(48), int64(43)\n",
      "memory usage: 2.4 MB\n"
     ]
    }
   ],
   "source": [
    "X_test.info()"
   ]
  },
  {
   "cell_type": "code",
   "execution_count": 85,
   "metadata": {},
   "outputs": [],
   "source": [
    "X_train_transformed = preprocessor.fit_transform(X_train)"
   ]
  },
  {
   "cell_type": "code",
   "execution_count": 86,
   "metadata": {},
   "outputs": [],
   "source": [
    "X_test_transformed = preprocessor.transform(X_test)"
   ]
  },
  {
   "cell_type": "code",
   "execution_count": 87,
   "metadata": {},
   "outputs": [
    {
     "name": "stdout",
     "output_type": "stream",
     "text": [
      "Requirement already satisfied: imbalanced-learn in c:\\users\\kyaa0\\appdata\\local\\programs\\python\\python39\\lib\\site-packages (0.11.0)\n",
      "Requirement already satisfied: numpy>=1.17.3 in c:\\users\\kyaa0\\appdata\\local\\programs\\python\\python39\\lib\\site-packages (from imbalanced-learn) (1.21.0)\n",
      "Requirement already satisfied: scipy>=1.5.0 in c:\\users\\kyaa0\\appdata\\local\\programs\\python\\python39\\lib\\site-packages (from imbalanced-learn) (1.10.1)\n",
      "Requirement already satisfied: scikit-learn>=1.0.2 in c:\\users\\kyaa0\\appdata\\local\\programs\\python\\python39\\lib\\site-packages (from imbalanced-learn) (1.3.0)\n",
      "Requirement already satisfied: joblib>=1.1.1 in c:\\users\\kyaa0\\appdata\\local\\programs\\python\\python39\\lib\\site-packages (from imbalanced-learn) (1.2.0)\n",
      "Requirement already satisfied: threadpoolctl>=2.0.0 in c:\\users\\kyaa0\\appdata\\local\\programs\\python\\python39\\lib\\site-packages (from imbalanced-learn) (3.1.0)\n",
      "Note: you may need to restart the kernel to use updated packages.\n"
     ]
    },
    {
     "name": "stderr",
     "output_type": "stream",
     "text": [
      "\n",
      "[notice] A new release of pip is available: 23.1.2 -> 23.2.1\n",
      "[notice] To update, run: python.exe -m pip install --upgrade pip\n"
     ]
    }
   ],
   "source": [
    "pip install -U imbalanced-learn"
   ]
  },
  {
   "cell_type": "code",
   "execution_count": 88,
   "metadata": {},
   "outputs": [],
   "source": [
    "from imblearn.over_sampling import SMOTE\n",
    "\n",
    "sm = SMOTE(random_state=0)\n",
    "x_train_smote, y_train_smote = sm.fit_resample(X_train, y_train)"
   ]
  },
  {
   "cell_type": "code",
   "execution_count": 89,
   "metadata": {},
   "outputs": [
    {
     "name": "stdout",
     "output_type": "stream",
     "text": [
      "<class 'pandas.core.frame.DataFrame'>\n",
      "RangeIndex: 13398 entries, 0 to 13397\n",
      "Data columns (total 91 columns):\n",
      " #   Column                      Non-Null Count  Dtype  \n",
      "---  ------                      --------------  -----  \n",
      " 0   유동비율(%)                     13398 non-null  float64\n",
      " 1   당좌비율(%)                     13398 non-null  float64\n",
      " 2   비유동비율(%)                    13398 non-null  float64\n",
      " 3   부채비율(%)                     13398 non-null  float64\n",
      " 4   유동부채비율(%)                   13398 non-null  float64\n",
      " 5   차입금의존도(%)                   13398 non-null  float64\n",
      " 6   이익잉여금비율(%)                  13398 non-null  float64\n",
      " 7   순운전자본비율(%)                  13398 non-null  float64\n",
      " 8   비유동장기적합률(%)                 13398 non-null  float64\n",
      " 9   이자보상배율(이자비용)(배)             13398 non-null  float64\n",
      " 10  외화포지션(배)                    13398 non-null  float64\n",
      " 11  총자본순이익률(%)                  13398 non-null  float64\n",
      " 12  자기자본순이익률(%)                 13398 non-null  float64\n",
      " 13  경영자본순이익률(%)                 13398 non-null  float64\n",
      " 14  매출액순이익률(%)                  13398 non-null  float64\n",
      " 15  총자본정상영업이익률(%)               13398 non-null  float64\n",
      " 16  자기자본정상영업이익률(%)              13398 non-null  float64\n",
      " 17  매출액정상영업이익률(%)               13398 non-null  float64\n",
      " 18  금융비용부담률(%)                  13398 non-null  float64\n",
      " 19  총자산회전율(배)                   13398 non-null  float64\n",
      " 20  매출채권회전률(배)                  13398 non-null  float64\n",
      " 21  당좌자산회전률(배)                  13398 non-null  float64\n",
      " 22  재고자산회전률(배)                  13398 non-null  float64\n",
      " 23  유형자산회전율(배)                  13398 non-null  float64\n",
      " 24  매입채무회전률(배)                  13398 non-null  float64\n",
      " 25  자기자본회전률(배)                  13398 non-null  float64\n",
      " 26  경영자본회전률(배)                  13398 non-null  float64\n",
      " 27  유동자산증가율(%)                  13398 non-null  float64\n",
      " 28  매출액증가율(%)                   13398 non-null  float64\n",
      " 29  정상영업이익증가율(%)                13398 non-null  float64\n",
      " 30  순이익증가율(%)                   13398 non-null  float64\n",
      " 31  spread(%)                   13398 non-null  float64\n",
      " 32  PPI(2015기준)                 13398 non-null  float64\n",
      " 33  실질GDP성장률(%)                 13398 non-null  float64\n",
      " 34  EV/EBITDA(배)                13398 non-null  float64\n",
      " 35  52주베타(배)                    13398 non-null  float64\n",
      " 36  PER                         13398 non-null  float64\n",
      " 37  PBR                         13398 non-null  float64\n",
      " 38  PCR                         13398 non-null  float64\n",
      " 39  CASH FLOW 대 부채비율(%)         13398 non-null  float64\n",
      " 40  총자본투자효율(%)                  13398 non-null  float64\n",
      " 41  log_평균총자산                   13398 non-null  float64\n",
      " 42  K2_score                    13398 non-null  float64\n",
      " 43  최대주주특수관계인_지분율(%)            13398 non-null  float64\n",
      " 44  최대주주변경횟수(회)                 13398 non-null  int64  \n",
      " 45  감사법인변경횟수(회)                 13398 non-null  int64  \n",
      " 46  업력(년)                       13398 non-null  int64  \n",
      " 47  평균근속연수(년)                   13398 non-null  float64\n",
      " 48  직원수증감율(%)                   13398 non-null  float64\n",
      " 49  기간제비율(%)                    13398 non-null  float64\n",
      " 50  R&D집중도(%)                   13398 non-null  float64\n",
      " 51  수출기업여부(dummy)               13398 non-null  int64  \n",
      " 52  Target                      13398 non-null  int64  \n",
      " 53  주거래은행_0                     13398 non-null  int64  \n",
      " 54  주거래은행_1                     13398 non-null  int64  \n",
      " 55  주거래은행_2                     13398 non-null  int64  \n",
      " 56  주거래은행_3                     13398 non-null  int64  \n",
      " 57  주거래은행_4                     13398 non-null  int64  \n",
      " 58  산업위험_경기민감도_카테고리화_1안_AA      13398 non-null  int64  \n",
      " 59  산업위험_경기민감도_카테고리화_1안_A_BB    13398 non-null  int64  \n",
      " 60  산업위험_경기민감도_카테고리화_1안_BBB     13398 non-null  int64  \n",
      " 61  산업위험_경기민감도_카테고리화_2안_AA      13398 non-null  int64  \n",
      " 62  산업위험_경기민감도_카테고리화_2안_A_B     13398 non-null  int64  \n",
      " 63  산업위험_경기민감도_카테고리화_2안_BB_BBB  13398 non-null  int64  \n",
      " 64  최대주주변경횟수(회)_카테고리화_1안_0회     13398 non-null  int64  \n",
      " 65  최대주주변경횟수(회)_카테고리화_1안_1~3회   13398 non-null  int64  \n",
      " 66  최대주주변경횟수(회)_카테고리화_1안_4회이상   13398 non-null  int64  \n",
      " 67  최대주주변경횟수(회)_카테고리화_2안_0~1회   13398 non-null  int64  \n",
      " 68  최대주주변경횟수(회)_카테고리화_2안_2~4회   13398 non-null  int64  \n",
      " 69  최대주주변경횟수(회)_카테고리화_2안_5회이상   13398 non-null  int64  \n",
      " 70  감사법인변경횟수(회)_카테고리화_1안_0회     13398 non-null  int64  \n",
      " 71  감사법인변경횟수(회)_카테고리화_1안_1~2회   13398 non-null  int64  \n",
      " 72  감사법인변경횟수(회)_카테고리화_1안_3회이상   13398 non-null  int64  \n",
      " 73  감사법인변경횟수(회)_카테고리화_2안_0회     13398 non-null  int64  \n",
      " 74  감사법인변경횟수(회)_카테고리화_2안_1회이상   13398 non-null  int64  \n",
      " 75  장단기금리차_추세_1안_감소             13398 non-null  int64  \n",
      " 76  장단기금리차_추세_1안_증가             13398 non-null  int64  \n",
      " 77  장단기금리차_추세_2안_-              13398 non-null  int64  \n",
      " 78  장단기금리차_추세_2안_역전             13398 non-null  int64  \n",
      " 79  생산자물가지수_추세_감소               13398 non-null  int64  \n",
      " 80  생산자물가지수_추세_증가               13398 non-null  int64  \n",
      " 81  실질GDP성장_추세_감소               13398 non-null  int64  \n",
      " 82  실질GDP성장_추세_증가               13398 non-null  int64  \n",
      " 83  산업위험_경기민감도_A                13398 non-null  int64  \n",
      " 84  산업위험_경기민감도_AA               13398 non-null  int64  \n",
      " 85  산업위험_경기민감도_B                13398 non-null  int64  \n",
      " 86  산업위험_경기민감도_BB               13398 non-null  int64  \n",
      " 87  산업위험_경기민감도_BBB              13398 non-null  int64  \n",
      " 88  K2_부실판단_건전판정                13398 non-null  int64  \n",
      " 89  K2_부실판단_부실가능                13398 non-null  int64  \n",
      " 90  K2_부실판단_판정보류                13398 non-null  int64  \n",
      "dtypes: float64(48), int64(43)\n",
      "memory usage: 9.3 MB\n"
     ]
    }
   ],
   "source": [
    "x_train_smote.info()"
   ]
  },
  {
   "cell_type": "code",
   "execution_count": 90,
   "metadata": {},
   "outputs": [],
   "source": [
    "model_dt = DecisionTreeClassifier()\n",
    "model_rf = RandomForestClassifier()\n",
    "model_lgb = lgb.LGBMClassifier()"
   ]
  },
  {
   "cell_type": "markdown",
   "metadata": {},
   "source": []
  },
  {
   "cell_type": "code",
   "execution_count": 91,
   "metadata": {},
   "outputs": [],
   "source": [
    "pipeline_dt = Pipeline(steps=[\n",
    "    ('preprocessor', preprocessor),\n",
    "    ('model', model_dt)\n",
    "])\n",
    "\n",
    "pipeline_rf = Pipeline(steps=[\n",
    "    ('preprocessor', preprocessor),\n",
    "    ('model', model_rf)\n",
    "])\n",
    "\n",
    "pipeline_lgb = Pipeline(steps=[\n",
    "    ('preprocessor', preprocessor),\n",
    "    ('model', model_lgb)\n",
    "])"
   ]
  },
  {
   "cell_type": "code",
   "execution_count": 92,
   "metadata": {},
   "outputs": [
    {
     "name": "stdout",
     "output_type": "stream",
     "text": [
      "[LightGBM] [Info] Number of positive: 6699, number of negative: 6699\n",
      "[LightGBM] [Warning] Auto-choosing col-wise multi-threading, the overhead of testing was 0.003569 seconds.\n",
      "You can set `force_col_wise=true` to remove the overhead.\n",
      "[LightGBM] [Info] Total Bins 10954\n",
      "[LightGBM] [Info] Number of data points in the train set: 13398, number of used features: 43\n",
      "[LightGBM] [Info] [binary:BoostFromScore]: pavg=0.500000 -> initscore=0.000000\n"
     ]
    },
    {
     "data": {
      "text/html": [
       "<style>#sk-container-id-3 {color: black;}#sk-container-id-3 pre{padding: 0;}#sk-container-id-3 div.sk-toggleable {background-color: white;}#sk-container-id-3 label.sk-toggleable__label {cursor: pointer;display: block;width: 100%;margin-bottom: 0;padding: 0.3em;box-sizing: border-box;text-align: center;}#sk-container-id-3 label.sk-toggleable__label-arrow:before {content: \"▸\";float: left;margin-right: 0.25em;color: #696969;}#sk-container-id-3 label.sk-toggleable__label-arrow:hover:before {color: black;}#sk-container-id-3 div.sk-estimator:hover label.sk-toggleable__label-arrow:before {color: black;}#sk-container-id-3 div.sk-toggleable__content {max-height: 0;max-width: 0;overflow: hidden;text-align: left;background-color: #f0f8ff;}#sk-container-id-3 div.sk-toggleable__content pre {margin: 0.2em;color: black;border-radius: 0.25em;background-color: #f0f8ff;}#sk-container-id-3 input.sk-toggleable__control:checked~div.sk-toggleable__content {max-height: 200px;max-width: 100%;overflow: auto;}#sk-container-id-3 input.sk-toggleable__control:checked~label.sk-toggleable__label-arrow:before {content: \"▾\";}#sk-container-id-3 div.sk-estimator input.sk-toggleable__control:checked~label.sk-toggleable__label {background-color: #d4ebff;}#sk-container-id-3 div.sk-label input.sk-toggleable__control:checked~label.sk-toggleable__label {background-color: #d4ebff;}#sk-container-id-3 input.sk-hidden--visually {border: 0;clip: rect(1px 1px 1px 1px);clip: rect(1px, 1px, 1px, 1px);height: 1px;margin: -1px;overflow: hidden;padding: 0;position: absolute;width: 1px;}#sk-container-id-3 div.sk-estimator {font-family: monospace;background-color: #f0f8ff;border: 1px dotted black;border-radius: 0.25em;box-sizing: border-box;margin-bottom: 0.5em;}#sk-container-id-3 div.sk-estimator:hover {background-color: #d4ebff;}#sk-container-id-3 div.sk-parallel-item::after {content: \"\";width: 100%;border-bottom: 1px solid gray;flex-grow: 1;}#sk-container-id-3 div.sk-label:hover label.sk-toggleable__label {background-color: #d4ebff;}#sk-container-id-3 div.sk-serial::before {content: \"\";position: absolute;border-left: 1px solid gray;box-sizing: border-box;top: 0;bottom: 0;left: 50%;z-index: 0;}#sk-container-id-3 div.sk-serial {display: flex;flex-direction: column;align-items: center;background-color: white;padding-right: 0.2em;padding-left: 0.2em;position: relative;}#sk-container-id-3 div.sk-item {position: relative;z-index: 1;}#sk-container-id-3 div.sk-parallel {display: flex;align-items: stretch;justify-content: center;background-color: white;position: relative;}#sk-container-id-3 div.sk-item::before, #sk-container-id-3 div.sk-parallel-item::before {content: \"\";position: absolute;border-left: 1px solid gray;box-sizing: border-box;top: 0;bottom: 0;left: 50%;z-index: -1;}#sk-container-id-3 div.sk-parallel-item {display: flex;flex-direction: column;z-index: 1;position: relative;background-color: white;}#sk-container-id-3 div.sk-parallel-item:first-child::after {align-self: flex-end;width: 50%;}#sk-container-id-3 div.sk-parallel-item:last-child::after {align-self: flex-start;width: 50%;}#sk-container-id-3 div.sk-parallel-item:only-child::after {width: 0;}#sk-container-id-3 div.sk-dashed-wrapped {border: 1px dashed gray;margin: 0 0.4em 0.5em 0.4em;box-sizing: border-box;padding-bottom: 0.4em;background-color: white;}#sk-container-id-3 div.sk-label label {font-family: monospace;font-weight: bold;display: inline-block;line-height: 1.2em;}#sk-container-id-3 div.sk-label-container {text-align: center;}#sk-container-id-3 div.sk-container {/* jupyter's `normalize.less` sets `[hidden] { display: none; }` but bootstrap.min.css set `[hidden] { display: none !important; }` so we also need the `!important` here to be able to override the default hidden behavior on the sphinx rendered scikit-learn.org. See: https://github.com/scikit-learn/scikit-learn/issues/21755 */display: inline-block !important;position: relative;}#sk-container-id-3 div.sk-text-repr-fallback {display: none;}</style><div id=\"sk-container-id-3\" class=\"sk-top-container\"><div class=\"sk-text-repr-fallback\"><pre>Pipeline(steps=[(&#x27;preprocessor&#x27;,\n",
       "                 ColumnTransformer(transformers=[(&#x27;numeric_scaled&#x27;,\n",
       "                                                  Pipeline(steps=[(&#x27;scaler&#x27;,\n",
       "                                                                   StandardScaler())]),\n",
       "                                                  [&#x27;유동비율(%)&#x27;, &#x27;당좌비율(%)&#x27;,\n",
       "                                                   &#x27;비유동비율(%)&#x27;, &#x27;부채비율(%)&#x27;,\n",
       "                                                   &#x27;유동부채비율(%)&#x27;, &#x27;차입금의존도(%)&#x27;,\n",
       "                                                   &#x27;이익잉여금비율(%)&#x27;, &#x27;순운전자본비율(%)&#x27;,\n",
       "                                                   &#x27;비유동장기적합률(%)&#x27;,\n",
       "                                                   &#x27;이자보상배율(이자비용)(배)&#x27;,\n",
       "                                                   &#x27;외화포지션(배)&#x27;, &#x27;총자본순이익률(%)&#x27;,\n",
       "                                                   &#x27;자기자본순이익률(%)&#x27;, &#x27;경영자본순이익률(%)&#x27;,\n",
       "                                                   &#x27;매출액순이익률(%)&#x27;,\n",
       "                                                   &#x27;총자본정상영업이익률(%)&#x27;,\n",
       "                                                   &#x27;자기자본정상영업이익률(%)&#x27;,\n",
       "                                                   &#x27;매출액정상영업이익률(%)&#x27;,\n",
       "                                                   &#x27;금융비용부담률(%)&#x27;, &#x27;총자산회전율(배)&#x27;,\n",
       "                                                   &#x27;매출채권회전률(배)&#x27;, &#x27;당좌자산회전률(배)&#x27;,\n",
       "                                                   &#x27;재고자산회전률(배)&#x27;, &#x27;유형자산회전율(배)&#x27;,\n",
       "                                                   &#x27;매입채무회전률(배)&#x27;, &#x27;자기자본회전률(배)&#x27;,\n",
       "                                                   &#x27;경영자본회전률(배)&#x27;, &#x27;유동자산증가율(%)&#x27;,\n",
       "                                                   &#x27;매출액증가율(%)&#x27;, &#x27;정상영업이익증가율(%)&#x27;, ...])])),\n",
       "                (&#x27;model&#x27;, LGBMClassifier())])</pre><b>In a Jupyter environment, please rerun this cell to show the HTML representation or trust the notebook. <br />On GitHub, the HTML representation is unable to render, please try loading this page with nbviewer.org.</b></div><div class=\"sk-container\" hidden><div class=\"sk-item sk-dashed-wrapped\"><div class=\"sk-label-container\"><div class=\"sk-label sk-toggleable\"><input class=\"sk-toggleable__control sk-hidden--visually\" id=\"sk-estimator-id-11\" type=\"checkbox\" ><label for=\"sk-estimator-id-11\" class=\"sk-toggleable__label sk-toggleable__label-arrow\">Pipeline</label><div class=\"sk-toggleable__content\"><pre>Pipeline(steps=[(&#x27;preprocessor&#x27;,\n",
       "                 ColumnTransformer(transformers=[(&#x27;numeric_scaled&#x27;,\n",
       "                                                  Pipeline(steps=[(&#x27;scaler&#x27;,\n",
       "                                                                   StandardScaler())]),\n",
       "                                                  [&#x27;유동비율(%)&#x27;, &#x27;당좌비율(%)&#x27;,\n",
       "                                                   &#x27;비유동비율(%)&#x27;, &#x27;부채비율(%)&#x27;,\n",
       "                                                   &#x27;유동부채비율(%)&#x27;, &#x27;차입금의존도(%)&#x27;,\n",
       "                                                   &#x27;이익잉여금비율(%)&#x27;, &#x27;순운전자본비율(%)&#x27;,\n",
       "                                                   &#x27;비유동장기적합률(%)&#x27;,\n",
       "                                                   &#x27;이자보상배율(이자비용)(배)&#x27;,\n",
       "                                                   &#x27;외화포지션(배)&#x27;, &#x27;총자본순이익률(%)&#x27;,\n",
       "                                                   &#x27;자기자본순이익률(%)&#x27;, &#x27;경영자본순이익률(%)&#x27;,\n",
       "                                                   &#x27;매출액순이익률(%)&#x27;,\n",
       "                                                   &#x27;총자본정상영업이익률(%)&#x27;,\n",
       "                                                   &#x27;자기자본정상영업이익률(%)&#x27;,\n",
       "                                                   &#x27;매출액정상영업이익률(%)&#x27;,\n",
       "                                                   &#x27;금융비용부담률(%)&#x27;, &#x27;총자산회전율(배)&#x27;,\n",
       "                                                   &#x27;매출채권회전률(배)&#x27;, &#x27;당좌자산회전률(배)&#x27;,\n",
       "                                                   &#x27;재고자산회전률(배)&#x27;, &#x27;유형자산회전율(배)&#x27;,\n",
       "                                                   &#x27;매입채무회전률(배)&#x27;, &#x27;자기자본회전률(배)&#x27;,\n",
       "                                                   &#x27;경영자본회전률(배)&#x27;, &#x27;유동자산증가율(%)&#x27;,\n",
       "                                                   &#x27;매출액증가율(%)&#x27;, &#x27;정상영업이익증가율(%)&#x27;, ...])])),\n",
       "                (&#x27;model&#x27;, LGBMClassifier())])</pre></div></div></div><div class=\"sk-serial\"><div class=\"sk-item sk-dashed-wrapped\"><div class=\"sk-label-container\"><div class=\"sk-label sk-toggleable\"><input class=\"sk-toggleable__control sk-hidden--visually\" id=\"sk-estimator-id-12\" type=\"checkbox\" ><label for=\"sk-estimator-id-12\" class=\"sk-toggleable__label sk-toggleable__label-arrow\">preprocessor: ColumnTransformer</label><div class=\"sk-toggleable__content\"><pre>ColumnTransformer(transformers=[(&#x27;numeric_scaled&#x27;,\n",
       "                                 Pipeline(steps=[(&#x27;scaler&#x27;, StandardScaler())]),\n",
       "                                 [&#x27;유동비율(%)&#x27;, &#x27;당좌비율(%)&#x27;, &#x27;비유동비율(%)&#x27;, &#x27;부채비율(%)&#x27;,\n",
       "                                  &#x27;유동부채비율(%)&#x27;, &#x27;차입금의존도(%)&#x27;, &#x27;이익잉여금비율(%)&#x27;,\n",
       "                                  &#x27;순운전자본비율(%)&#x27;, &#x27;비유동장기적합률(%)&#x27;,\n",
       "                                  &#x27;이자보상배율(이자비용)(배)&#x27;, &#x27;외화포지션(배)&#x27;, &#x27;총자본순이익률(%)&#x27;,\n",
       "                                  &#x27;자기자본순이익률(%)&#x27;, &#x27;경영자본순이익률(%)&#x27;, &#x27;매출액순이익률(%)&#x27;,\n",
       "                                  &#x27;총자본정상영업이익률(%)&#x27;, &#x27;자기자본정상영업이익률(%)&#x27;,\n",
       "                                  &#x27;매출액정상영업이익률(%)&#x27;, &#x27;금융비용부담률(%)&#x27;, &#x27;총자산회전율(배)&#x27;,\n",
       "                                  &#x27;매출채권회전률(배)&#x27;, &#x27;당좌자산회전률(배)&#x27;, &#x27;재고자산회전률(배)&#x27;,\n",
       "                                  &#x27;유형자산회전율(배)&#x27;, &#x27;매입채무회전률(배)&#x27;, &#x27;자기자본회전률(배)&#x27;,\n",
       "                                  &#x27;경영자본회전률(배)&#x27;, &#x27;유동자산증가율(%)&#x27;, &#x27;매출액증가율(%)&#x27;,\n",
       "                                  &#x27;정상영업이익증가율(%)&#x27;, ...])])</pre></div></div></div><div class=\"sk-parallel\"><div class=\"sk-parallel-item\"><div class=\"sk-item\"><div class=\"sk-label-container\"><div class=\"sk-label sk-toggleable\"><input class=\"sk-toggleable__control sk-hidden--visually\" id=\"sk-estimator-id-13\" type=\"checkbox\" ><label for=\"sk-estimator-id-13\" class=\"sk-toggleable__label sk-toggleable__label-arrow\">numeric_scaled</label><div class=\"sk-toggleable__content\"><pre>[&#x27;유동비율(%)&#x27;, &#x27;당좌비율(%)&#x27;, &#x27;비유동비율(%)&#x27;, &#x27;부채비율(%)&#x27;, &#x27;유동부채비율(%)&#x27;, &#x27;차입금의존도(%)&#x27;, &#x27;이익잉여금비율(%)&#x27;, &#x27;순운전자본비율(%)&#x27;, &#x27;비유동장기적합률(%)&#x27;, &#x27;이자보상배율(이자비용)(배)&#x27;, &#x27;외화포지션(배)&#x27;, &#x27;총자본순이익률(%)&#x27;, &#x27;자기자본순이익률(%)&#x27;, &#x27;경영자본순이익률(%)&#x27;, &#x27;매출액순이익률(%)&#x27;, &#x27;총자본정상영업이익률(%)&#x27;, &#x27;자기자본정상영업이익률(%)&#x27;, &#x27;매출액정상영업이익률(%)&#x27;, &#x27;금융비용부담률(%)&#x27;, &#x27;총자산회전율(배)&#x27;, &#x27;매출채권회전률(배)&#x27;, &#x27;당좌자산회전률(배)&#x27;, &#x27;재고자산회전률(배)&#x27;, &#x27;유형자산회전율(배)&#x27;, &#x27;매입채무회전률(배)&#x27;, &#x27;자기자본회전률(배)&#x27;, &#x27;경영자본회전률(배)&#x27;, &#x27;유동자산증가율(%)&#x27;, &#x27;매출액증가율(%)&#x27;, &#x27;정상영업이익증가율(%)&#x27;, &#x27;순이익증가율(%)&#x27;, &#x27;spread(%)&#x27;, &#x27;PPI(2015기준)&#x27;, &#x27;실질GDP성장률(%)&#x27;, &#x27;EV/EBITDA(배)&#x27;, &#x27;52주베타(배)&#x27;, &#x27;PER&#x27;, &#x27;PBR&#x27;, &#x27;PCR&#x27;, &#x27;CASH FLOW 대 부채비율(%)&#x27;, &#x27;총자본투자효율(%)&#x27;, &#x27;log_평균총자산&#x27;, &#x27;K2_score&#x27;]</pre></div></div></div><div class=\"sk-serial\"><div class=\"sk-item\"><div class=\"sk-serial\"><div class=\"sk-item\"><div class=\"sk-estimator sk-toggleable\"><input class=\"sk-toggleable__control sk-hidden--visually\" id=\"sk-estimator-id-14\" type=\"checkbox\" ><label for=\"sk-estimator-id-14\" class=\"sk-toggleable__label sk-toggleable__label-arrow\">StandardScaler</label><div class=\"sk-toggleable__content\"><pre>StandardScaler()</pre></div></div></div></div></div></div></div></div></div></div><div class=\"sk-item\"><div class=\"sk-estimator sk-toggleable\"><input class=\"sk-toggleable__control sk-hidden--visually\" id=\"sk-estimator-id-15\" type=\"checkbox\" ><label for=\"sk-estimator-id-15\" class=\"sk-toggleable__label sk-toggleable__label-arrow\">LGBMClassifier</label><div class=\"sk-toggleable__content\"><pre>LGBMClassifier()</pre></div></div></div></div></div></div></div>"
      ],
      "text/plain": [
       "Pipeline(steps=[('preprocessor',\n",
       "                 ColumnTransformer(transformers=[('numeric_scaled',\n",
       "                                                  Pipeline(steps=[('scaler',\n",
       "                                                                   StandardScaler())]),\n",
       "                                                  ['유동비율(%)', '당좌비율(%)',\n",
       "                                                   '비유동비율(%)', '부채비율(%)',\n",
       "                                                   '유동부채비율(%)', '차입금의존도(%)',\n",
       "                                                   '이익잉여금비율(%)', '순운전자본비율(%)',\n",
       "                                                   '비유동장기적합률(%)',\n",
       "                                                   '이자보상배율(이자비용)(배)',\n",
       "                                                   '외화포지션(배)', '총자본순이익률(%)',\n",
       "                                                   '자기자본순이익률(%)', '경영자본순이익률(%)',\n",
       "                                                   '매출액순이익률(%)',\n",
       "                                                   '총자본정상영업이익률(%)',\n",
       "                                                   '자기자본정상영업이익률(%)',\n",
       "                                                   '매출액정상영업이익률(%)',\n",
       "                                                   '금융비용부담률(%)', '총자산회전율(배)',\n",
       "                                                   '매출채권회전률(배)', '당좌자산회전률(배)',\n",
       "                                                   '재고자산회전률(배)', '유형자산회전율(배)',\n",
       "                                                   '매입채무회전률(배)', '자기자본회전률(배)',\n",
       "                                                   '경영자본회전률(배)', '유동자산증가율(%)',\n",
       "                                                   '매출액증가율(%)', '정상영업이익증가율(%)', ...])])),\n",
       "                ('model', LGBMClassifier())])"
      ]
     },
     "execution_count": 92,
     "metadata": {},
     "output_type": "execute_result"
    }
   ],
   "source": [
    "pipeline_dt.fit(x_train_smote, y_train_smote)\n",
    "pipeline_rf.fit(x_train_smote, y_train_smote)\n",
    "pipeline_lgb.fit(x_train_smote, y_train_smote)\n",
    "\n"
   ]
  },
  {
   "cell_type": "code",
   "execution_count": 93,
   "metadata": {},
   "outputs": [],
   "source": [
    "y_pred_dt = pipeline_dt.predict(X_test)\n",
    "y_pred_rf = pipeline_rf.predict(X_test)\n",
    "y_pred_lgb = pipeline_lgb.predict(X_test)"
   ]
  },
  {
   "cell_type": "code",
   "execution_count": 94,
   "metadata": {},
   "outputs": [
    {
     "name": "stdout",
     "output_type": "stream",
     "text": [
      "Decision Tree 모델의 f1-score: 0.22605694564279552\n",
      "Random Forest 모델의 f1-score: 0.38317757009345793\n",
      "LightGBM 모델의 f1-score: 0.25485625485625485\n"
     ]
    }
   ],
   "source": [
    "from sklearn.metrics import f1_score\n",
    "\n",
    "# 각 모델별 성능 평가\n",
    "f1_dt = f1_score(y_test, y_pred_dt)\n",
    "f1_rf = f1_score(y_test, y_pred_rf)\n",
    "f1_lgb = f1_score(y_test, y_pred_lgb)\n",
    "\n",
    "\n",
    "print(f\"Decision Tree 모델의 f1-score: {f1_dt}\")\n",
    "print(f\"Random Forest 모델의 f1-score: {f1_rf}\")\n",
    "print(f\"LightGBM 모델의 f1-score: {f1_lgb}\")\n"
   ]
  },
  {
   "cell_type": "code",
   "execution_count": null,
   "metadata": {},
   "outputs": [],
   "source": []
  }
 ],
 "metadata": {
  "kernelspec": {
   "display_name": "Python 3",
   "language": "python",
   "name": "python3"
  },
  "language_info": {
   "codemirror_mode": {
    "name": "ipython",
    "version": 3
   },
   "file_extension": ".py",
   "mimetype": "text/x-python",
   "name": "python",
   "nbconvert_exporter": "python",
   "pygments_lexer": "ipython3",
   "version": "3.9.11"
  },
  "orig_nbformat": 4
 },
 "nbformat": 4,
 "nbformat_minor": 2
}
