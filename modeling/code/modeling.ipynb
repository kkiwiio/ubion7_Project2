{
 "cells": [
  {
   "cell_type": "code",
   "execution_count": 61,
   "metadata": {},
   "outputs": [],
   "source": [
    "from sklearn.preprocessing import MinMaxScaler, StandardScaler, RobustScaler\n",
    "from imblearn.over_sampling import SMOTE\n",
    "from sklearn.tree import DecisionTreeClassifier\n",
    "from sklearn.ensemble import RandomForestClassifier\n",
    "from xgboost import XGBClassifier\n",
    "from lightgbm import LGBMClassifier\n",
    "from sklearn.linear_model import LogisticRegression\n",
    "from sklearn.metrics import classification_report\n",
    "import pandas as pd"
   ]
  },
  {
   "cell_type": "code",
   "execution_count": 62,
   "metadata": {},
   "outputs": [],
   "source": [
    "df_train=pd.read_excel('./train.xlsx',index_col=0)\n",
    "df_test = pd.read_excel('./test.xlsx',index_col=0)\n",
    "df_train = df_train.reset_index()\n",
    "df_test = df_test.reset_index()\n",
    "df_train = df_train.drop(['index','회사명', '거래소코드', '회계년도'],axis=1)\n",
    "df_test = df_test.drop(['index','회사명', '거래소코드', '회계년도'],axis=1)"
   ]
  },
  {
   "cell_type": "code",
   "execution_count": 86,
   "metadata": {},
   "outputs": [],
   "source": [
    "X_train = df_train.drop(\"Target\",axis=True)\n",
    "y_train = df_train['Target']\n",
    "X_test= df_test.drop(\"Target\",axis=True)\n",
    "y_test = df_test['Target']"
   ]
  },
  {
   "cell_type": "code",
   "execution_count": null,
   "metadata": {},
   "outputs": [],
   "source": []
  },
  {
   "cell_type": "code",
   "execution_count": 91,
   "metadata": {},
   "outputs": [],
   "source": [
    "scaled_features =  ['유동비율(%)', '당좌비율(%)', '비유동비율(%)', '부채비율(%)', '유동부채비율(%)', '차입금의존도(%)',\n",
    "       '이익잉여금비율(%)', '순운전자본비율(%)', '비유동장기적합률(%)', '이자보상배율(이자비용)(배)',\n",
    "       '외화포지션(배)', '총자본순이익률(%)', '자기자본순이익률(%)', '경영자본순이익률(%)', '매출액순이익률(%)',\n",
    "       '총자본정상영업이익률(%)', '자기자본정상영업이익률(%)', '매출액정상영업이익률(%)', '금융비용부담률(%)',\n",
    "       '총자산회전율(배)', '매출채권회전률(배)', '당좌자산회전률(배)', '재고자산회전률(배)', '유형자산회전율(배)',\n",
    "       '매입채무회전률(배)', '자기자본회전률(배)', '경영자본회전률(배)', '유동자산증가율(%)', '매출액증가율(%)',\n",
    "       '정상영업이익증가율(%)', '순이익증가율(%)', 'spread(%)', 'PPI(2015기준)', '실질GDP성장률(%)',\n",
    "       'EV/EBITDA(배)', '52주베타(배)', 'PER', 'PBR', 'PCR', 'CASH FLOW 대 부채비율(%)',\n",
    "       '총자본투자효율(%)', 'log_평균총자산', 'K2_score', '최대주주특수관계인_지분율(%)',\n",
    "        '직원수증감율(%)',\n",
    "       '기간제비율(%)', 'R&D집중도(%)']"
   ]
  },
  {
   "cell_type": "code",
   "execution_count": 89,
   "metadata": {},
   "outputs": [],
   "source": [
    "scaler_minmax = MinMaxScaler()\n",
    "scaler_standard = StandardScaler()\n",
    "scaler_robust = RobustScaler()"
   ]
  },
  {
   "cell_type": "code",
   "execution_count": 93,
   "metadata": {},
   "outputs": [],
   "source": [
    "from imblearn.over_sampling import SMOTENC\n",
    "smote = SMOTENC(random_state=42,sampling_strategy=0.33,categorical_features=['최대주주변경횟수(회)_카테고리화_1안_0회', '최대주주변경횟수(회)_카테고리화_1안_1~3회', '최대주주변경횟수(회)_카테고리화_1안_4회이상'])\n",
    "X_train_oversampled_minmax, y_train_oversampled_minmax = smote.fit_resample(X_train_scaled_minmax, y_train)\n",
    "X_train_oversampled_standard, y_train_oversampled_standard = smote.fit_resample(X_train_scaled_standard, y_train)\n",
    "X_train_oversampled_robust, y_train_oversampled_robust = smote.fit_resample(X_train_scaled_robust, y_train)"
   ]
  },
  {
   "cell_type": "code",
   "execution_count": 96,
   "metadata": {},
   "outputs": [],
   "source": [
    "X_train = df_train_2[['순운전자본비율(%)','최대주주변경횟수(회)_카테고리화_1안_0회',\n",
    "       '최대주주변경횟수(회)_카테고리화_1안_1~3회', '최대주주변경횟수(회)_카테고리화_1안_4회이상','총자산회전율(배)','52주베타(배)','최대주주특수관계인_지분율(%)','업력(년)', '평균근속연수(년)', '직원수증감율(%)',\n",
    "       '기간제비율(%)','R&D집중도(%)','K2_score','매출액순이익률(%)']]\n",
    "y_train = df_train['Target']\n",
    "\n",
    "X_test = df_test_2[['순운전자본비율(%)','최대주주변경횟수(회)_카테고리화_1안_0회',\n",
    "       '최대주주변경횟수(회)_카테고리화_1안_1~3회', '최대주주변경횟수(회)_카테고리화_1안_4회이상','총자산회전율(배)','52주베타(배)','최대주주특수관계인_지분율(%)','업력(년)', '평균근속연수(년)', '직원수증감율(%)',\n",
    "       '기간제비율(%)','R&D집중도(%)','K2_score','매출액순이익률(%)']]\n",
    "y_test = df_test['Target']"
   ]
  },
  {
   "cell_type": "code",
   "execution_count": 94,
   "metadata": {},
   "outputs": [],
   "source": [
    "cat_features = ['최대주주변경횟수(회)_카테고리화_1안_0회', '최대주주변경횟수(회)_카테고리화_1안_1~3회', '최대주주변경횟수(회)_카테고리화_1안_4회이상']"
   ]
  },
  {
   "cell_type": "code",
   "execution_count": 66,
   "metadata": {},
   "outputs": [],
   "source": [
    "# scaler = StandardScaler()\n",
    "\n",
    "# # 데이터프레임의 선택된 수치형 데이터 컬럼에 스탠다드 스케일링을 적용하고, 새로운 컬럼에 저장합니다.\n",
    "# df_train_2 = df_train .copy()  # 원본 데이터프레임을 복사합니다.\n",
    "# df_train_2[selected_columns] = scaler.fit_transform(df_train [selected_columns])\n",
    "# df_test_2 = df_test .copy()  # 원본 데이터프레임을 복사합니다.\n",
    "# df_test_2[selected_columns] = scaler.transform(df_test[selected_columns])"
   ]
  },
  {
   "cell_type": "code",
   "execution_count": 69,
   "metadata": {},
   "outputs": [],
   "source": [
    "# from imblearn.over_sampling import SMOTENC\n",
    "\n",
    "# sm = SMOTENC(random_state=0,sampling_strategy=0.33,categorical_features=['최대주주변경횟수(회)_카테고리화_1안_0회',\n",
    "#        '최대주주변경횟수(회)_카테고리화_1안_1~3회', '최대주주변경횟수(회)_카테고리화_1안_4회이상'])\n",
    "# x_train_smote, y_train_smote = sm.fit_resample(X_train, y_train)"
   ]
  },
  {
   "cell_type": "code",
   "execution_count": 70,
   "metadata": {},
   "outputs": [],
   "source": [
    "# df_train_2 = pd.concat([x_train_smote, y_train_smote],axis=1)"
   ]
  },
  {
   "cell_type": "code",
   "execution_count": 71,
   "metadata": {},
   "outputs": [],
   "source": [
    "# X_train = df_train_2.drop(\"Target\",axis=True)\n",
    "# y_train = df_train_2['Target']"
   ]
  },
  {
   "cell_type": "code",
   "execution_count": 72,
   "metadata": {},
   "outputs": [],
   "source": [
    "# from sklearn.linear_model import LogisticRegression\n",
    "# from sklearn.tree import DecisionTreeClassifier\n",
    "# from sklearn.svm import SVC\n",
    "# from sklearn.ensemble import RandomForestClassifier\n",
    "# from xgboost import XGBClassifier\n",
    "# from lightgbm import LGBMClassifier\n",
    "# from sklearn.metrics import confusion_matrix, precision_score, recall_score, accuracy_score, f1_score, roc_auc_score"
   ]
  },
  {
   "cell_type": "code",
   "execution_count": 73,
   "metadata": {},
   "outputs": [],
   "source": [
    "# def model_basic(X_train, y_train, X_test, y_test):\n",
    "#     models = [\n",
    "#         DecisionTreeClassifier(),\n",
    "#         RandomForestClassifier(),\n",
    "#         XGBClassifier(),\n",
    "#         LGBMClassifier()\n",
    "#     ]\n",
    "\n",
    "#     rdict={'model':[],'accuracy':[],'precision':[],'recall':[],'f1_score':[]}\n",
    "\n",
    "    \n",
    "#     for clf in models:\n",
    "#         clf = clf.fit(X_train, y_train)\n",
    "#         pred = clf.predict(X_test)\n",
    "#         results = (round(accuracy_score(y_test, pred),2),\n",
    "#                     round(precision_score(y_test, pred),2),\n",
    "#                     round(recall_score(y_test, pred),2),\n",
    "#                     round(f1_score(y_test, pred),2))\n",
    "#         rdict['model'].append(clf); \n",
    "#         rdict['accuracy'].append(results[0])\n",
    "#         rdict['precision'].append(results[1])\n",
    "#         rdict['recall'].append(results[2])\n",
    "#         rdict['f1_score'].append(results[3])\n",
    "\n",
    "#         # print(results)\n",
    "\n",
    "#     rdf = pd.DataFrame(data=rdict)\n",
    "#     return rdf "
   ]
  },
  {
   "cell_type": "code",
   "execution_count": 74,
   "metadata": {},
   "outputs": [],
   "source": [
    "# result_df = model_basic(X_train, y_train, X_test, y_test)"
   ]
  },
  {
   "cell_type": "code",
   "execution_count": 75,
   "metadata": {},
   "outputs": [],
   "source": [
    "import pandas as pd\n",
    "from catboost import CatBoostClassifier\n",
    "from sklearn.model_selection import train_test_split, KFold\n",
    "from sklearn.metrics import accuracy_score, precision_score, recall_score, f1_score, confusion_matrix\n",
    "from sklearn.preprocessing import StandardScaler\n",
    "from sklearn.preprocessing import MinMaxScaler\n",
    "from sklearn.model_selection import GridSearchCV\n"
   ]
  },
  {
   "cell_type": "code",
   "execution_count": 76,
   "metadata": {},
   "outputs": [],
   "source": [
    "from scipy.stats import randint\n",
    "from sklearn.metrics import accuracy_score, classification_report, confusion_matrix\n"
   ]
  },
  {
   "cell_type": "code",
   "execution_count": 77,
   "metadata": {},
   "outputs": [
    {
     "name": "stdout",
     "output_type": "stream",
     "text": [
      "<class 'pandas.core.frame.DataFrame'>\n",
      "RangeIndex: 8909 entries, 0 to 8908\n",
      "Data columns (total 14 columns):\n",
      " #   Column                     Non-Null Count  Dtype  \n",
      "---  ------                     --------------  -----  \n",
      " 0   순운전자본비율(%)                 8909 non-null   float64\n",
      " 1   최대주주변경횟수(회)_카테고리화_1안_0회    8909 non-null   int64  \n",
      " 2   최대주주변경횟수(회)_카테고리화_1안_1~3회  8909 non-null   int64  \n",
      " 3   최대주주변경횟수(회)_카테고리화_1안_4회이상  8909 non-null   int64  \n",
      " 4   총자산회전율(배)                  8909 non-null   float64\n",
      " 5   52주베타(배)                   8909 non-null   float64\n",
      " 6   최대주주특수관계인_지분율(%)           8909 non-null   float64\n",
      " 7   업력(년)                      8909 non-null   int64  \n",
      " 8   평균근속연수(년)                  8909 non-null   float64\n",
      " 9   직원수증감율(%)                  8909 non-null   float64\n",
      " 10  기간제비율(%)                   8909 non-null   float64\n",
      " 11  R&D집중도(%)                  8909 non-null   float64\n",
      " 12  K2_score                   8909 non-null   float64\n",
      " 13  매출액순이익률(%)                 8909 non-null   float64\n",
      "dtypes: float64(10), int64(4)\n",
      "memory usage: 974.5 KB\n"
     ]
    }
   ],
   "source": [
    "X_train.info()"
   ]
  },
  {
   "cell_type": "code",
   "execution_count": 78,
   "metadata": {},
   "outputs": [],
   "source": [
    "import catboost as cb"
   ]
  },
  {
   "cell_type": "code",
   "execution_count": 79,
   "metadata": {},
   "outputs": [],
   "source": [
    "cat_features  = ['최대주주변경횟수(회)_카테고리화_1안_0회','최대주주변경횟수(회)_카테고리화_1안_1~3회', '최대주주변경횟수(회)_카테고리화_1안_4회이상']"
   ]
  },
  {
   "cell_type": "code",
   "execution_count": 80,
   "metadata": {},
   "outputs": [],
   "source": [
    "catboost_model = CatBoostClassifier(depth=10, l2_leaf_reg=3, iterations=200, learning_rate=0.05, random_seed=42)\n"
   ]
  },
  {
   "cell_type": "code",
   "execution_count": null,
   "metadata": {},
   "outputs": [],
   "source": []
  },
  {
   "cell_type": "code",
   "execution_count": 82,
   "metadata": {},
   "outputs": [],
   "source": [
    "from catboost import CatBoostClassifier, Pool"
   ]
  }
 ],
 "metadata": {
  "kernelspec": {
   "display_name": "Python 3",
   "language": "python",
   "name": "python3"
  },
  "language_info": {
   "codemirror_mode": {
    "name": "ipython",
    "version": 3
   },
   "file_extension": ".py",
   "mimetype": "text/x-python",
   "name": "python",
   "nbconvert_exporter": "python",
   "pygments_lexer": "ipython3",
   "version": "3.9.11"
  },
  "orig_nbformat": 4
 },
 "nbformat": 4,
 "nbformat_minor": 2
}
