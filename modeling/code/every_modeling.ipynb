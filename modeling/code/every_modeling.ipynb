{
 "cells": [
  {
   "cell_type": "code",
   "execution_count": 14,
   "metadata": {},
   "outputs": [],
   "source": [
    "from sklearn.pipeline import Pipeline\n",
    "from imblearn.pipeline import Pipeline as ImbPipeline\n",
    "from imblearn.pipeline import make_pipeline\n",
    "from imblearn.over_sampling import SMOTE\n",
    "from sklearn.tree import DecisionTreeClassifier\n",
    "from sklearn.ensemble import RandomForestClassifier\n",
    "from xgboost import XGBClassifier\n",
    "from lightgbm import LGBMClassifier\n",
    "from sklearn.linear_model import LogisticRegression\n",
    "from sklearn.metrics import classification_report\n",
    "from sklearn.preprocessing import MinMaxScaler, StandardScaler, RobustScaler\n",
    "from sklearn.model_selection import GridSearchCV\n",
    "import pandas as pd"
   ]
  },
  {
   "cell_type": "code",
   "execution_count": 15,
   "metadata": {},
   "outputs": [],
   "source": [
    "df_train=pd.read_excel('./train.xlsx',index_col=0)\n",
    "df_test = pd.read_excel('./test.xlsx',index_col=0)\n",
    "df_train = df_train.reset_index()\n",
    "df_test = df_test.reset_index()\n",
    "df_train = df_train.drop(['index','회사명', '거래소코드', '회계년도'],axis=1)\n",
    "df_test = df_test.drop(['index','회사명', '거래소코드', '회계년도'],axis=1)"
   ]
  },
  {
   "cell_type": "code",
   "execution_count": 16,
   "metadata": {},
   "outputs": [],
   "source": [
    "selected_columns =  ['유동비율(%)', '당좌비율(%)', '비유동비율(%)', '부채비율(%)', '유동부채비율(%)', '차입금의존도(%)',\n",
    "       '이익잉여금비율(%)', '순운전자본비율(%)', '비유동장기적합률(%)', '이자보상배율(이자비용)(배)',\n",
    "       '외화포지션(배)', '총자본순이익률(%)', '자기자본순이익률(%)', '경영자본순이익률(%)', '매출액순이익률(%)',\n",
    "       '총자본정상영업이익률(%)', '자기자본정상영업이익률(%)', '매출액정상영업이익률(%)', '금융비용부담률(%)',\n",
    "       '총자산회전율(배)', '매출채권회전률(배)', '당좌자산회전률(배)', '재고자산회전률(배)', '유형자산회전율(배)',\n",
    "       '매입채무회전률(배)', '자기자본회전률(배)', '경영자본회전률(배)', '유동자산증가율(%)', '매출액증가율(%)',\n",
    "       '정상영업이익증가율(%)', '순이익증가율(%)', 'spread(%)', 'PPI(2015기준)', '실질GDP성장률(%)',\n",
    "       'EV/EBITDA(배)', '52주베타(배)', 'PER', 'PBR', 'PCR', 'CASH FLOW 대 부채비율(%)',\n",
    "       '총자본투자효율(%)', 'log_평균총자산', 'K2_score', '최대주주특수관계인_지분율(%)',\n",
    "       '최대주주변경횟수(회)', '감사법인변경횟수(회)', '업력(년)', '평균근속연수(년)', '직원수증감율(%)',\n",
    "       '기간제비율(%)', 'R&D집중도(%)', '수출기업여부(dummy)']"
   ]
  },
  {
   "cell_type": "code",
   "execution_count": 17,
   "metadata": {},
   "outputs": [],
   "source": [
    "X_train = df_train[['차입금의존도(%)',\n",
    " '순운전자본비율(%)',\n",
    " '총자본순이익률(%)',\n",
    " '자기자본정상영업이익률(%)',\n",
    " '금융비용부담률(%)',\n",
    " '총자산회전율(배)',\n",
    " 'log_평균총자산',\n",
    " 'K2_score',\n",
    " '최대주주특수관계인_지분율(%)',\n",
    " '감사법인변경횟수(회)']]\n",
    "y_train = df_train['Target']\n",
    "X_test = df_test[['차입금의존도(%)',\n",
    " '순운전자본비율(%)',\n",
    " '총자본순이익률(%)',\n",
    " '자기자본정상영업이익률(%)',\n",
    " '금융비용부담률(%)',\n",
    " '총자산회전율(배)',\n",
    " 'log_평균총자산',\n",
    " 'K2_score',\n",
    " '최대주주특수관계인_지분율(%)',\n",
    " '감사법인변경횟수(회)']]\n",
    "y_test = df_test['Target']"
   ]
  },
  {
   "cell_type": "code",
   "execution_count": 18,
   "metadata": {},
   "outputs": [],
   "source": [
    "scaler_minmax = MinMaxScaler()\n",
    "scaler_standard = StandardScaler()\n",
    "scaler_robust = RobustScaler()"
   ]
  },
  {
   "cell_type": "code",
   "execution_count": 19,
   "metadata": {},
   "outputs": [],
   "source": [
    "dt_classifier = DecisionTreeClassifier(random_state=42)\n",
    "rf_classifier = RandomForestClassifier(random_state=42)\n",
    "xgb_classifier = XGBClassifier(random_state=42)\n",
    "lgbm_classifier = LGBMClassifier(random_state=42)\n",
    "logistic_regression = LogisticRegression(random_state=42)"
   ]
  },
  {
   "cell_type": "code",
   "execution_count": 20,
   "metadata": {},
   "outputs": [],
   "source": [
    "classifiers = [\n",
    "    (\"Decision Tree\", dt_classifier),\n",
    "    (\"Random Forest\", rf_classifier),\n",
    "    (\"XGBoost\", xgb_classifier),\n",
    "    (\"LightGBM\", lgbm_classifier),\n",
    "    (\"Logistic Regression\", logistic_regression)\n",
    "]"
   ]
  },
  {
   "cell_type": "code",
   "execution_count": 21,
   "metadata": {},
   "outputs": [],
   "source": [
    "scaling_methods = [\n",
    "    (\"MinMaxScaler\", scaler_minmax),\n",
    "    # (\"StandardScaler\", scaler_standard),\n",
    "    # (\"RobustScaler\", scaler_robust)\n",
    "]\n"
   ]
  },
  {
   "cell_type": "code",
   "execution_count": 22,
   "metadata": {},
   "outputs": [],
   "source": [
    "param_grids = {\n",
    "    'Decision Tree': {\n",
    "        'classifier__max_depth': [None, 10, 20],\n",
    "        'classifier__min_samples_split': [2, 5, 10]\n",
    "    },\n",
    "    'Random Forest': {\n",
    "        'classifier__n_estimators': [50, 100, 200],\n",
    "        'classifier__max_depth': [None, 10, 20],\n",
    "        'classifier__min_samples_split': [2, 5, 10]\n",
    "    },\n",
    "    'XGBoost': {\n",
    "        'classifier__n_estimators': [50, 100, 200],\n",
    "        'classifier__max_depth': [3, 5, 7],\n",
    "        'classifier__learning_rate': [0.01, 0.1, 0.2]\n",
    "    },\n",
    "    'LightGBM': {\n",
    "        'classifier__n_estimators': [50, 100, 200],\n",
    "        'classifier__max_depth': [3, 5, 7],\n",
    "        'classifier__learning_rate': [0.01, 0.1, 0.2]\n",
    "    },\n",
    "    'Logistic Regression': {\n",
    "        'classifier__C': [0.1, 1, 10],\n",
    "        'classifier__penalty': ['l1', 'l2']\n",
    "    }\n",
    "}\n"
   ]
  },
  {
   "cell_type": "code",
   "execution_count": 23,
   "metadata": {},
   "outputs": [
    {
     "name": "stdout",
     "output_type": "stream",
     "text": [
      "Scaling method: MinMaxScaler\n",
      "Fitting 5 folds for each of 9 candidates, totalling 45 fits\n",
      "Best parameters found for Decision Tree:\n",
      "{'classifier__max_depth': 10, 'classifier__min_samples_split': 5}\n",
      "\n",
      "Best F1 score found:\n",
      "0.4595728202048008\n",
      "              precision    recall  f1-score   support\n",
      "\n",
      "           0       0.97      0.83      0.89      3283\n",
      "           1       0.22      0.63      0.32       244\n",
      "\n",
      "    accuracy                           0.82      3527\n",
      "   macro avg       0.59      0.73      0.61      3527\n",
      "weighted avg       0.92      0.82      0.85      3527\n",
      "\n",
      "==================================================\n",
      "Fitting 5 folds for each of 27 candidates, totalling 135 fits\n"
     ]
    }
   ],
   "source": [
    "for scaler_name, scaler in scaling_methods:\n",
    "    print(f\"Scaling method: {scaler_name}\")\n",
    "    \n",
    "    for clf_name, clf in classifiers:\n",
    "        pipeline = ImbPipeline([\n",
    "            ('scaler', scaler),\n",
    "            ('smote', SMOTE(random_state=42,sampling_strategy=1)),\n",
    "            ('classifier', clf)\n",
    "        ])\n",
    "\n",
    "        \n",
    "        if clf_name in param_grids:\n",
    "                param_grid = param_grids[clf_name]\n",
    "                grid_search = GridSearchCV(pipeline, param_grid, scoring='f1', cv=5, verbose=1)\n",
    "                grid_search.fit(X_train, y_train)\n",
    "\n",
    "                print(f\"Best parameters found for {clf_name}:\")\n",
    "                print(grid_search.best_params_)\n",
    "                print(\"\\nBest F1 score found:\")\n",
    "                print(grid_search.best_score_)\n",
    "\n",
    "                # 최적화된 모델로 예측 및 평가\n",
    "                best_model = grid_search.best_estimator_\n",
    "                y_pred = best_model.predict(X_test)\n",
    "                report = classification_report(y_test, y_pred)\n",
    "                print(report)\n",
    "                print(\"=\" * 50)"
   ]
  },
  {
   "cell_type": "code",
   "execution_count": null,
   "metadata": {},
   "outputs": [],
   "source": []
  }
 ],
 "metadata": {
  "kernelspec": {
   "display_name": "Python 3",
   "language": "python",
   "name": "python3"
  },
  "language_info": {
   "codemirror_mode": {
    "name": "ipython",
    "version": 3
   },
   "file_extension": ".py",
   "mimetype": "text/x-python",
   "name": "python",
   "nbconvert_exporter": "python",
   "pygments_lexer": "ipython3",
   "version": "3.9.11"
  },
  "orig_nbformat": 4
 },
 "nbformat": 4,
 "nbformat_minor": 2
}
